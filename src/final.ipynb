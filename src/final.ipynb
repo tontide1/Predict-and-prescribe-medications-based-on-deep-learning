{
 "cells": [
  {
   "cell_type": "code",
   "execution_count": 1,
   "metadata": {},
   "outputs": [],
   "source": [
    "import pandas as pd\n",
    "import numpy as np\n",
    "from pyvi import ViTokenizer, ViPosTagger, ViUtils\n",
    "from tensorflow.keras.preprocessing.sequence import pad_sequences\n",
    "from tensorflow.keras.utils import to_categorical\n",
    "from sklearn.preprocessing import LabelEncoder\n",
    "from tensorflow.keras.models import Model\n",
    "from tensorflow.keras.layers import Input, Embedding, LSTM, Dense\n",
    "from collections import defaultdict"
   ]
  },
  {
   "cell_type": "markdown",
   "metadata": {},
   "source": [
    "### Nhận tệp dữ liệu cần train"
   ]
  },
  {
   "cell_type": "code",
   "execution_count": 4,
   "metadata": {},
   "outputs": [
    {
     "name": "stderr",
     "output_type": "stream",
     "text": [
      "C:\\Users\\CYBER\\AppData\\Local\\Temp\\ipykernel_9204\\3830935338.py:4: FutureWarning: A value is trying to be set on a copy of a DataFrame or Series through chained assignment using an inplace method.\n",
      "The behavior will change in pandas 3.0. This inplace method will never work because the intermediate object on which we are setting values always behaves as a copy.\n",
      "\n",
      "For example, when doing 'df[col].method(value, inplace=True)', try using 'df.method({col: value}, inplace=True)' or df[col] = df[col].method(value) instead, to perform the operation inplace on the original object.\n",
      "\n",
      "\n",
      "  data['Van_de_benh_nhan'].fillna('', inplace=True)\n",
      "C:\\Users\\CYBER\\AppData\\Local\\Temp\\ipykernel_9204\\3830935338.py:5: FutureWarning: A value is trying to be set on a copy of a DataFrame or Series through chained assignment using an inplace method.\n",
      "The behavior will change in pandas 3.0. This inplace method will never work because the intermediate object on which we are setting values always behaves as a copy.\n",
      "\n",
      "For example, when doing 'df[col].method(value, inplace=True)', try using 'df.method({col: value}, inplace=True)' or df[col] = df[col].method(value) instead, to perform the operation inplace on the original object.\n",
      "\n",
      "\n",
      "  data['Benh'].fillna('', inplace=True)\n",
      "C:\\Users\\CYBER\\AppData\\Local\\Temp\\ipykernel_9204\\3830935338.py:6: FutureWarning: A value is trying to be set on a copy of a DataFrame or Series through chained assignment using an inplace method.\n",
      "The behavior will change in pandas 3.0. This inplace method will never work because the intermediate object on which we are setting values always behaves as a copy.\n",
      "\n",
      "For example, when doing 'df[col].method(value, inplace=True)', try using 'df.method({col: value}, inplace=True)' or df[col] = df[col].method(value) instead, to perform the operation inplace on the original object.\n",
      "\n",
      "\n",
      "  data['Don_thuoc'].fillna('', inplace=True)\n"
     ]
    },
    {
     "data": {
      "text/plain": [
       "4692"
      ]
     },
     "execution_count": 4,
     "metadata": {},
     "output_type": "execute_result"
    }
   ],
   "source": [
    "data = pd.read_excel('C:\\\\Users\\\\CYBER\\\\Desktop\\\\AI_PROJECT_NEW\\\\data\\\\processed_medical_data_AI.xlsx')\n",
    "\n",
    "# Kiểm tra và xử lý giá trị null\n",
    "data['Van_de_benh_nhan'].fillna('', inplace=True)\n",
    "data['Benh'].fillna('', inplace=True)\n",
    "data['Don_thuoc'].fillna('', inplace=True)\n",
    "\n",
    "#loại bỏ dữ liệu bị trùng\n",
    "data.drop_duplicates(inplace=True)\n",
    "len(data)"
   ]
  },
  {
   "cell_type": "markdown",
   "metadata": {},
   "source": [
    "### Xử lý chuỗi input đầu vào bằng cách sử dụng thư viện PyVi về dạng vector"
   ]
  },
  {
   "cell_type": "code",
   "execution_count": 5,
   "metadata": {},
   "outputs": [],
   "source": [
    "# Sử dụng PyVi để tokenize văn bản tiếng Việt\n",
    "data['Tokenized_Problem'] = data['Van_de_benh_nhan'].apply(lambda x: ViTokenizer.tokenize(x))"
   ]
  },
  {
   "cell_type": "code",
   "execution_count": 6,
   "metadata": {},
   "outputs": [],
   "source": [
    "# Tạo từ điển từ vựng sử dụng defaultdict\n",
    "vocab = defaultdict(lambda: len(vocab) + 1)\n",
    "for text in data['Tokenized_Problem']:\n",
    "    for word in text.split():\n",
    "        _ = vocab[word]  # Thêm từ vào từ điển nếu chưa có\n",
    "\n",
    "# Chuyển đổi văn bản thành chuỗi số và pad sequences\n",
    "sequences = data['Tokenized_Problem'].apply(lambda x: [vocab[word] for word in x.split() if word in vocab])\n",
    "padded_sequences = pad_sequences(sequences, maxlen=100)"
   ]
  },
  {
   "cell_type": "code",
   "execution_count": 7,
   "metadata": {},
   "outputs": [],
   "source": [
    "# Mã hóa nhãn đầu ra\n",
    "label_encoder_disease = LabelEncoder()\n",
    "label_encoder_prescription = LabelEncoder()\n",
    "\n",
    "disease_labels = label_encoder_disease.fit_transform(data['Benh'])\n",
    "prescription_labels = label_encoder_prescription.fit_transform(data['Don_thuoc'])\n",
    "\n",
    "disease_labels_categorical = to_categorical(disease_labels)\n",
    "prescription_labels_categorical = to_categorical(prescription_labels)\n",
    "\n",
    "# print(padded_sequences[:5])\n",
    "# print(disease_labels_categorical[:5])\n",
    "# print(prescription_labels_categorical[:5])"
   ]
  },
  {
   "cell_type": "code",
   "execution_count": null,
   "metadata": {},
   "outputs": [
    {
     "data": {
      "text/html": [
       "<pre style=\"white-space:pre;overflow-x:auto;line-height:normal;font-family:Menlo,'DejaVu Sans Mono',consolas,'Courier New',monospace\"><span style=\"font-weight: bold\">Model: \"functional\"</span>\n",
       "</pre>\n"
      ],
      "text/plain": [
       "\u001b[1mModel: \"functional\"\u001b[0m\n"
      ]
     },
     "metadata": {},
     "output_type": "display_data"
    },
    {
     "data": {
      "text/html": [
       "<pre style=\"white-space:pre;overflow-x:auto;line-height:normal;font-family:Menlo,'DejaVu Sans Mono',consolas,'Courier New',monospace\">┏━━━━━━━━━━━━━━━━━━━━━┳━━━━━━━━━━━━━━━━━━━┳━━━━━━━━━━━━┳━━━━━━━━━━━━━━━━━━━┓\n",
       "┃<span style=\"font-weight: bold\"> Layer (type)        </span>┃<span style=\"font-weight: bold\"> Output Shape      </span>┃<span style=\"font-weight: bold\">    Param # </span>┃<span style=\"font-weight: bold\"> Connected to      </span>┃\n",
       "┡━━━━━━━━━━━━━━━━━━━━━╇━━━━━━━━━━━━━━━━━━━╇━━━━━━━━━━━━╇━━━━━━━━━━━━━━━━━━━┩\n",
       "│ input_layer         │ (<span style=\"color: #00d7ff; text-decoration-color: #00d7ff\">None</span>, <span style=\"color: #00af00; text-decoration-color: #00af00\">100</span>)       │          <span style=\"color: #00af00; text-decoration-color: #00af00\">0</span> │ -                 │\n",
       "│ (<span style=\"color: #0087ff; text-decoration-color: #0087ff\">InputLayer</span>)        │                   │            │                   │\n",
       "├─────────────────────┼───────────────────┼────────────┼───────────────────┤\n",
       "│ embedding           │ (<span style=\"color: #00d7ff; text-decoration-color: #00d7ff\">None</span>, <span style=\"color: #00af00; text-decoration-color: #00af00\">100</span>, <span style=\"color: #00af00; text-decoration-color: #00af00\">64</span>)   │     <span style=\"color: #00af00; text-decoration-color: #00af00\">98,560</span> │ input_layer[<span style=\"color: #00af00; text-decoration-color: #00af00\">0</span>][<span style=\"color: #00af00; text-decoration-color: #00af00\">0</span>] │\n",
       "│ (<span style=\"color: #0087ff; text-decoration-color: #0087ff\">Embedding</span>)         │                   │            │                   │\n",
       "├─────────────────────┼───────────────────┼────────────┼───────────────────┤\n",
       "│ lstm (<span style=\"color: #0087ff; text-decoration-color: #0087ff\">LSTM</span>)         │ (<span style=\"color: #00d7ff; text-decoration-color: #00d7ff\">None</span>, <span style=\"color: #00af00; text-decoration-color: #00af00\">64</span>)        │     <span style=\"color: #00af00; text-decoration-color: #00af00\">33,024</span> │ embedding[<span style=\"color: #00af00; text-decoration-color: #00af00\">0</span>][<span style=\"color: #00af00; text-decoration-color: #00af00\">0</span>]   │\n",
       "├─────────────────────┼───────────────────┼────────────┼───────────────────┤\n",
       "│ disease_output      │ (<span style=\"color: #00d7ff; text-decoration-color: #00d7ff\">None</span>, <span style=\"color: #00af00; text-decoration-color: #00af00\">889</span>)       │     <span style=\"color: #00af00; text-decoration-color: #00af00\">57,785</span> │ lstm[<span style=\"color: #00af00; text-decoration-color: #00af00\">0</span>][<span style=\"color: #00af00; text-decoration-color: #00af00\">0</span>]        │\n",
       "│ (<span style=\"color: #0087ff; text-decoration-color: #0087ff\">Dense</span>)             │                   │            │                   │\n",
       "├─────────────────────┼───────────────────┼────────────┼───────────────────┤\n",
       "│ prescription_output │ (<span style=\"color: #00d7ff; text-decoration-color: #00d7ff\">None</span>, <span style=\"color: #00af00; text-decoration-color: #00af00\">2963</span>)      │    <span style=\"color: #00af00; text-decoration-color: #00af00\">192,595</span> │ lstm[<span style=\"color: #00af00; text-decoration-color: #00af00\">0</span>][<span style=\"color: #00af00; text-decoration-color: #00af00\">0</span>]        │\n",
       "│ (<span style=\"color: #0087ff; text-decoration-color: #0087ff\">Dense</span>)             │                   │            │                   │\n",
       "└─────────────────────┴───────────────────┴────────────┴───────────────────┘\n",
       "</pre>\n"
      ],
      "text/plain": [
       "┏━━━━━━━━━━━━━━━━━━━━━┳━━━━━━━━━━━━━━━━━━━┳━━━━━━━━━━━━┳━━━━━━━━━━━━━━━━━━━┓\n",
       "┃\u001b[1m \u001b[0m\u001b[1mLayer (type)       \u001b[0m\u001b[1m \u001b[0m┃\u001b[1m \u001b[0m\u001b[1mOutput Shape     \u001b[0m\u001b[1m \u001b[0m┃\u001b[1m \u001b[0m\u001b[1m   Param #\u001b[0m\u001b[1m \u001b[0m┃\u001b[1m \u001b[0m\u001b[1mConnected to     \u001b[0m\u001b[1m \u001b[0m┃\n",
       "┡━━━━━━━━━━━━━━━━━━━━━╇━━━━━━━━━━━━━━━━━━━╇━━━━━━━━━━━━╇━━━━━━━━━━━━━━━━━━━┩\n",
       "│ input_layer         │ (\u001b[38;5;45mNone\u001b[0m, \u001b[38;5;34m100\u001b[0m)       │          \u001b[38;5;34m0\u001b[0m │ -                 │\n",
       "│ (\u001b[38;5;33mInputLayer\u001b[0m)        │                   │            │                   │\n",
       "├─────────────────────┼───────────────────┼────────────┼───────────────────┤\n",
       "│ embedding           │ (\u001b[38;5;45mNone\u001b[0m, \u001b[38;5;34m100\u001b[0m, \u001b[38;5;34m64\u001b[0m)   │     \u001b[38;5;34m98,560\u001b[0m │ input_layer[\u001b[38;5;34m0\u001b[0m][\u001b[38;5;34m0\u001b[0m] │\n",
       "│ (\u001b[38;5;33mEmbedding\u001b[0m)         │                   │            │                   │\n",
       "├─────────────────────┼───────────────────┼────────────┼───────────────────┤\n",
       "│ lstm (\u001b[38;5;33mLSTM\u001b[0m)         │ (\u001b[38;5;45mNone\u001b[0m, \u001b[38;5;34m64\u001b[0m)        │     \u001b[38;5;34m33,024\u001b[0m │ embedding[\u001b[38;5;34m0\u001b[0m][\u001b[38;5;34m0\u001b[0m]   │\n",
       "├─────────────────────┼───────────────────┼────────────┼───────────────────┤\n",
       "│ disease_output      │ (\u001b[38;5;45mNone\u001b[0m, \u001b[38;5;34m889\u001b[0m)       │     \u001b[38;5;34m57,785\u001b[0m │ lstm[\u001b[38;5;34m0\u001b[0m][\u001b[38;5;34m0\u001b[0m]        │\n",
       "│ (\u001b[38;5;33mDense\u001b[0m)             │                   │            │                   │\n",
       "├─────────────────────┼───────────────────┼────────────┼───────────────────┤\n",
       "│ prescription_output │ (\u001b[38;5;45mNone\u001b[0m, \u001b[38;5;34m2963\u001b[0m)      │    \u001b[38;5;34m192,595\u001b[0m │ lstm[\u001b[38;5;34m0\u001b[0m][\u001b[38;5;34m0\u001b[0m]        │\n",
       "│ (\u001b[38;5;33mDense\u001b[0m)             │                   │            │                   │\n",
       "└─────────────────────┴───────────────────┴────────────┴───────────────────┘\n"
      ]
     },
     "metadata": {},
     "output_type": "display_data"
    },
    {
     "data": {
      "text/html": [
       "<pre style=\"white-space:pre;overflow-x:auto;line-height:normal;font-family:Menlo,'DejaVu Sans Mono',consolas,'Courier New',monospace\"><span style=\"font-weight: bold\"> Total params: </span><span style=\"color: #00af00; text-decoration-color: #00af00\">381,964</span> (1.46 MB)\n",
       "</pre>\n"
      ],
      "text/plain": [
       "\u001b[1m Total params: \u001b[0m\u001b[38;5;34m381,964\u001b[0m (1.46 MB)\n"
      ]
     },
     "metadata": {},
     "output_type": "display_data"
    },
    {
     "data": {
      "text/html": [
       "<pre style=\"white-space:pre;overflow-x:auto;line-height:normal;font-family:Menlo,'DejaVu Sans Mono',consolas,'Courier New',monospace\"><span style=\"font-weight: bold\"> Trainable params: </span><span style=\"color: #00af00; text-decoration-color: #00af00\">381,964</span> (1.46 MB)\n",
       "</pre>\n"
      ],
      "text/plain": [
       "\u001b[1m Trainable params: \u001b[0m\u001b[38;5;34m381,964\u001b[0m (1.46 MB)\n"
      ]
     },
     "metadata": {},
     "output_type": "display_data"
    },
    {
     "data": {
      "text/html": [
       "<pre style=\"white-space:pre;overflow-x:auto;line-height:normal;font-family:Menlo,'DejaVu Sans Mono',consolas,'Courier New',monospace\"><span style=\"font-weight: bold\"> Non-trainable params: </span><span style=\"color: #00af00; text-decoration-color: #00af00\">0</span> (0.00 B)\n",
       "</pre>\n"
      ],
      "text/plain": [
       "\u001b[1m Non-trainable params: \u001b[0m\u001b[38;5;34m0\u001b[0m (0.00 B)\n"
      ]
     },
     "metadata": {},
     "output_type": "display_data"
    }
   ],
   "source": [
    "from tensorflow.keras.optimizers import Adam\n",
    "input_layer = Input(shape=(100,)) #Kích thước đầu vào là 100\n",
    "embedding_layer = Embedding(input_dim=len(vocab) + 1, output_dim=64)(input_layer)\n",
    "lstm_layer = LSTM(64)(embedding_layer)\n",
    "\n",
    "disease_output = Dense(len(label_encoder_disease.classes_), activation='softmax', name='disease_output')(lstm_layer)\n",
    "prescription_output = Dense(len(label_encoder_prescription.classes_), activation='softmax', name='prescription_output')(lstm_layer)\n",
    "\n",
    "model = Model(inputs=input_layer, outputs=[disease_output, prescription_output])\n",
    "optimizer = Adam(learning_rate=0.01)\n",
    "model.compile(\n",
    "    loss={'disease_output': 'categorical_crossentropy',\n",
    "          'prescription_output': 'categorical_crossentropy'},\n",
    "    optimizer=optimizer,\n",
    "    # optimizer='RMSprop',\n",
    "    \n",
    "    metrics={'disease_output': ['accuracy'], 'prescription_output': ['accuracy']}\n",
    ")\n",
    "\n",
    "model.summary()"
   ]
  },
  {
   "cell_type": "code",
   "execution_count": null,
   "metadata": {},
   "outputs": [
    {
     "name": "stdout",
     "output_type": "stream",
     "text": [
      "Epoch 1/100\n",
      "\u001b[1m74/74\u001b[0m \u001b[32m━━━━━━━━━━━━━━━━━━━━\u001b[0m\u001b[37m\u001b[0m \u001b[1m3s\u001b[0m 20ms/step - disease_output_accuracy: 0.0174 - disease_output_loss: 6.2517 - loss: 14.3476 - prescription_output_accuracy: 0.0077 - prescription_output_loss: 8.0957\n",
      "Epoch 2/100\n",
      "\u001b[1m74/74\u001b[0m \u001b[32m━━━━━━━━━━━━━━━━━━━━\u001b[0m\u001b[37m\u001b[0m \u001b[1m1s\u001b[0m 20ms/step - disease_output_accuracy: 0.0337 - disease_output_loss: 5.7181 - loss: 13.3215 - prescription_output_accuracy: 0.0104 - prescription_output_loss: 7.6034\n",
      "Epoch 3/100\n",
      "\u001b[1m74/74\u001b[0m \u001b[32m━━━━━━━━━━━━━━━━━━━━\u001b[0m\u001b[37m\u001b[0m \u001b[1m1s\u001b[0m 20ms/step - disease_output_accuracy: 0.0661 - disease_output_loss: 5.3217 - loss: 12.6003 - prescription_output_accuracy: 0.0222 - prescription_output_loss: 7.2787\n",
      "Epoch 4/100\n",
      "\u001b[1m74/74\u001b[0m \u001b[32m━━━━━━━━━━━━━━━━━━━━\u001b[0m\u001b[37m\u001b[0m \u001b[1m2s\u001b[0m 20ms/step - disease_output_accuracy: 0.1001 - disease_output_loss: 4.9144 - loss: 11.7576 - prescription_output_accuracy: 0.0384 - prescription_output_loss: 6.8434\n",
      "Epoch 5/100\n",
      "\u001b[1m74/74\u001b[0m \u001b[32m━━━━━━━━━━━━━━━━━━━━\u001b[0m\u001b[37m\u001b[0m \u001b[1m2s\u001b[0m 21ms/step - disease_output_accuracy: 0.1398 - disease_output_loss: 4.3672 - loss: 10.6121 - prescription_output_accuracy: 0.0485 - prescription_output_loss: 6.2449\n",
      "Epoch 6/100\n",
      "\u001b[1m74/74\u001b[0m \u001b[32m━━━━━━━━━━━━━━━━━━━━\u001b[0m\u001b[37m\u001b[0m \u001b[1m2s\u001b[0m 20ms/step - disease_output_accuracy: 0.1851 - disease_output_loss: 3.9421 - loss: 9.5088 - prescription_output_accuracy: 0.0820 - prescription_output_loss: 5.5669\n",
      "Epoch 7/100\n",
      "\u001b[1m74/74\u001b[0m \u001b[32m━━━━━━━━━━━━━━━━━━━━\u001b[0m\u001b[37m\u001b[0m \u001b[1m2s\u001b[0m 20ms/step - disease_output_accuracy: 0.2357 - disease_output_loss: 3.4745 - loss: 8.1829 - prescription_output_accuracy: 0.1302 - prescription_output_loss: 4.7085\n",
      "Epoch 8/100\n",
      "\u001b[1m74/74\u001b[0m \u001b[32m━━━━━━━━━━━━━━━━━━━━\u001b[0m\u001b[37m\u001b[0m \u001b[1m2s\u001b[0m 20ms/step - disease_output_accuracy: 0.2540 - disease_output_loss: 3.3939 - loss: 7.8797 - prescription_output_accuracy: 0.1494 - prescription_output_loss: 4.4861\n",
      "Epoch 9/100\n",
      "\u001b[1m74/74\u001b[0m \u001b[32m━━━━━━━━━━━━━━━━━━━━\u001b[0m\u001b[37m\u001b[0m \u001b[1m2s\u001b[0m 20ms/step - disease_output_accuracy: 0.2976 - disease_output_loss: 2.9391 - loss: 6.5706 - prescription_output_accuracy: 0.2369 - prescription_output_loss: 3.6319\n",
      "Epoch 10/100\n",
      "\u001b[1m74/74\u001b[0m \u001b[32m━━━━━━━━━━━━━━━━━━━━\u001b[0m\u001b[37m\u001b[0m \u001b[1m1s\u001b[0m 20ms/step - disease_output_accuracy: 0.3678 - disease_output_loss: 2.5832 - loss: 5.6046 - prescription_output_accuracy: 0.3327 - prescription_output_loss: 3.0214\n",
      "Epoch 11/100\n",
      "\u001b[1m74/74\u001b[0m \u001b[32m━━━━━━━━━━━━━━━━━━━━\u001b[0m\u001b[37m\u001b[0m \u001b[1m2s\u001b[0m 21ms/step - disease_output_accuracy: 0.4391 - disease_output_loss: 2.1895 - loss: 4.5651 - prescription_output_accuracy: 0.4376 - prescription_output_loss: 2.3755\n",
      "Epoch 12/100\n",
      "\u001b[1m74/74\u001b[0m \u001b[32m━━━━━━━━━━━━━━━━━━━━\u001b[0m\u001b[37m\u001b[0m \u001b[1m1s\u001b[0m 20ms/step - disease_output_accuracy: 0.4935 - disease_output_loss: 1.9618 - loss: 3.8671 - prescription_output_accuracy: 0.5532 - prescription_output_loss: 1.9056\n",
      "Epoch 13/100\n",
      "\u001b[1m74/74\u001b[0m \u001b[32m━━━━━━━━━━━━━━━━━━━━\u001b[0m\u001b[37m\u001b[0m \u001b[1m2s\u001b[0m 20ms/step - disease_output_accuracy: 0.5250 - disease_output_loss: 1.7961 - loss: 3.3761 - prescription_output_accuracy: 0.6050 - prescription_output_loss: 1.5802\n",
      "Epoch 14/100\n",
      "\u001b[1m74/74\u001b[0m \u001b[32m━━━━━━━━━━━━━━━━━━━━\u001b[0m\u001b[37m\u001b[0m \u001b[1m1s\u001b[0m 20ms/step - disease_output_accuracy: 0.5836 - disease_output_loss: 1.5170 - loss: 2.8126 - prescription_output_accuracy: 0.6770 - prescription_output_loss: 1.2958\n",
      "Epoch 15/100\n",
      "\u001b[1m74/74\u001b[0m \u001b[32m━━━━━━━━━━━━━━━━━━━━\u001b[0m\u001b[37m\u001b[0m \u001b[1m2s\u001b[0m 20ms/step - disease_output_accuracy: 0.6041 - disease_output_loss: 1.4525 - loss: 2.5803 - prescription_output_accuracy: 0.7073 - prescription_output_loss: 1.1279\n",
      "Epoch 16/100\n",
      "\u001b[1m74/74\u001b[0m \u001b[32m━━━━━━━━━━━━━━━━━━━━\u001b[0m\u001b[37m\u001b[0m \u001b[1m2s\u001b[0m 21ms/step - disease_output_accuracy: 0.6618 - disease_output_loss: 1.2459 - loss: 2.2038 - prescription_output_accuracy: 0.7534 - prescription_output_loss: 0.9582\n",
      "Epoch 17/100\n",
      "\u001b[1m74/74\u001b[0m \u001b[32m━━━━━━━━━━━━━━━━━━━━\u001b[0m\u001b[37m\u001b[0m \u001b[1m2s\u001b[0m 21ms/step - disease_output_accuracy: 0.6648 - disease_output_loss: 1.1765 - loss: 2.0292 - prescription_output_accuracy: 0.7829 - prescription_output_loss: 0.8527\n",
      "Epoch 18/100\n",
      "\u001b[1m74/74\u001b[0m \u001b[32m━━━━━━━━━━━━━━━━━━━━\u001b[0m\u001b[37m\u001b[0m \u001b[1m2s\u001b[0m 21ms/step - disease_output_accuracy: 0.6986 - disease_output_loss: 1.0550 - loss: 1.8075 - prescription_output_accuracy: 0.8005 - prescription_output_loss: 0.7525\n",
      "Epoch 19/100\n",
      "\u001b[1m74/74\u001b[0m \u001b[32m━━━━━━━━━━━━━━━━━━━━\u001b[0m\u001b[37m\u001b[0m \u001b[1m2s\u001b[0m 21ms/step - disease_output_accuracy: 0.7404 - disease_output_loss: 0.9117 - loss: 1.5456 - prescription_output_accuracy: 0.8301 - prescription_output_loss: 0.6341\n",
      "Epoch 20/100\n",
      "\u001b[1m74/74\u001b[0m \u001b[32m━━━━━━━━━━━━━━━━━━━━\u001b[0m\u001b[37m\u001b[0m \u001b[1m2s\u001b[0m 21ms/step - disease_output_accuracy: 0.7548 - disease_output_loss: 0.8668 - loss: 1.4704 - prescription_output_accuracy: 0.8291 - prescription_output_loss: 0.6040\n",
      "Epoch 21/100\n",
      "\u001b[1m74/74\u001b[0m \u001b[32m━━━━━━━━━━━━━━━━━━━━\u001b[0m\u001b[37m\u001b[0m \u001b[1m2s\u001b[0m 21ms/step - disease_output_accuracy: 0.7927 - disease_output_loss: 0.7783 - loss: 1.3232 - prescription_output_accuracy: 0.8567 - prescription_output_loss: 0.5450\n",
      "Epoch 22/100\n",
      "\u001b[1m74/74\u001b[0m \u001b[32m━━━━━━━━━━━━━━━━━━━━\u001b[0m\u001b[37m\u001b[0m \u001b[1m2s\u001b[0m 20ms/step - disease_output_accuracy: 0.7959 - disease_output_loss: 0.7117 - loss: 1.1924 - prescription_output_accuracy: 0.8650 - prescription_output_loss: 0.4806\n",
      "Epoch 23/100\n",
      "\u001b[1m74/74\u001b[0m \u001b[32m━━━━━━━━━━━━━━━━━━━━\u001b[0m\u001b[37m\u001b[0m \u001b[1m2s\u001b[0m 21ms/step - disease_output_accuracy: 0.8205 - disease_output_loss: 0.6448 - loss: 1.0835 - prescription_output_accuracy: 0.8780 - prescription_output_loss: 0.4387\n",
      "Epoch 24/100\n",
      "\u001b[1m74/74\u001b[0m \u001b[32m━━━━━━━━━━━━━━━━━━━━\u001b[0m\u001b[37m\u001b[0m \u001b[1m2s\u001b[0m 20ms/step - disease_output_accuracy: 0.8269 - disease_output_loss: 0.6364 - loss: 1.0801 - prescription_output_accuracy: 0.8758 - prescription_output_loss: 0.4437\n",
      "Epoch 25/100\n",
      "\u001b[1m74/74\u001b[0m \u001b[32m━━━━━━━━━━━━━━━━━━━━\u001b[0m\u001b[37m\u001b[0m \u001b[1m2s\u001b[0m 20ms/step - disease_output_accuracy: 0.8311 - disease_output_loss: 0.6047 - loss: 1.0397 - prescription_output_accuracy: 0.8707 - prescription_output_loss: 0.4351\n",
      "Epoch 26/100\n",
      "\u001b[1m74/74\u001b[0m \u001b[32m━━━━━━━━━━━━━━━━━━━━\u001b[0m\u001b[37m\u001b[0m \u001b[1m2s\u001b[0m 21ms/step - disease_output_accuracy: 0.8437 - disease_output_loss: 0.5611 - loss: 0.9569 - prescription_output_accuracy: 0.8857 - prescription_output_loss: 0.3957\n",
      "Epoch 27/100\n",
      "\u001b[1m74/74\u001b[0m \u001b[32m━━━━━━━━━━━━━━━━━━━━\u001b[0m\u001b[37m\u001b[0m \u001b[1m2s\u001b[0m 21ms/step - disease_output_accuracy: 0.8379 - disease_output_loss: 0.5585 - loss: 0.9453 - prescription_output_accuracy: 0.8907 - prescription_output_loss: 0.3869\n",
      "Epoch 28/100\n",
      "\u001b[1m74/74\u001b[0m \u001b[32m━━━━━━━━━━━━━━━━━━━━\u001b[0m\u001b[37m\u001b[0m \u001b[1m2s\u001b[0m 21ms/step - disease_output_accuracy: 0.8218 - disease_output_loss: 0.6229 - loss: 1.0686 - prescription_output_accuracy: 0.8796 - prescription_output_loss: 0.4459\n",
      "Epoch 29/100\n",
      "\u001b[1m74/74\u001b[0m \u001b[32m━━━━━━━━━━━━━━━━━━━━\u001b[0m\u001b[37m\u001b[0m \u001b[1m2s\u001b[0m 20ms/step - disease_output_accuracy: 0.8284 - disease_output_loss: 0.5862 - loss: 1.0072 - prescription_output_accuracy: 0.8821 - prescription_output_loss: 0.4209\n",
      "Epoch 30/100\n",
      "\u001b[1m74/74\u001b[0m \u001b[32m━━━━━━━━━━━━━━━━━━━━\u001b[0m\u001b[37m\u001b[0m \u001b[1m2s\u001b[0m 20ms/step - disease_output_accuracy: 0.8284 - disease_output_loss: 0.5963 - loss: 1.0171 - prescription_output_accuracy: 0.8727 - prescription_output_loss: 0.4207\n",
      "Epoch 31/100\n",
      "\u001b[1m74/74\u001b[0m \u001b[32m━━━━━━━━━━━━━━━━━━━━\u001b[0m\u001b[37m\u001b[0m \u001b[1m2s\u001b[0m 20ms/step - disease_output_accuracy: 0.7693 - disease_output_loss: 0.7863 - loss: 1.3651 - prescription_output_accuracy: 0.8409 - prescription_output_loss: 0.5788\n",
      "Epoch 32/100\n",
      "\u001b[1m74/74\u001b[0m \u001b[32m━━━━━━━━━━━━━━━━━━━━\u001b[0m\u001b[37m\u001b[0m \u001b[1m2s\u001b[0m 20ms/step - disease_output_accuracy: 0.6840 - disease_output_loss: 1.0530 - loss: 1.9306 - prescription_output_accuracy: 0.7448 - prescription_output_loss: 0.8777\n",
      "Epoch 33/100\n",
      "\u001b[1m74/74\u001b[0m \u001b[32m━━━━━━━━━━━━━━━━━━━━\u001b[0m\u001b[37m\u001b[0m \u001b[1m2s\u001b[0m 20ms/step - disease_output_accuracy: 0.7244 - disease_output_loss: 0.9084 - loss: 1.6223 - prescription_output_accuracy: 0.7936 - prescription_output_loss: 0.7140\n",
      "Epoch 34/100\n",
      "\u001b[1m74/74\u001b[0m \u001b[32m━━━━━━━━━━━━━━━━━━━━\u001b[0m\u001b[37m\u001b[0m \u001b[1m1s\u001b[0m 20ms/step - disease_output_accuracy: 0.7470 - disease_output_loss: 0.8025 - loss: 1.3737 - prescription_output_accuracy: 0.8250 - prescription_output_loss: 0.5711\n",
      "Epoch 35/100\n",
      "\u001b[1m74/74\u001b[0m \u001b[32m━━━━━━━━━━━━━━━━━━━━\u001b[0m\u001b[37m\u001b[0m \u001b[1m2s\u001b[0m 20ms/step - disease_output_accuracy: 0.7935 - disease_output_loss: 0.6989 - loss: 1.1670 - prescription_output_accuracy: 0.8564 - prescription_output_loss: 0.4682\n",
      "Epoch 36/100\n",
      "\u001b[1m74/74\u001b[0m \u001b[32m━━━━━━━━━━━━━━━━━━━━\u001b[0m\u001b[37m\u001b[0m \u001b[1m1s\u001b[0m 20ms/step - disease_output_accuracy: 0.8131 - disease_output_loss: 0.6048 - loss: 1.0081 - prescription_output_accuracy: 0.8756 - prescription_output_loss: 0.4035\n",
      "Epoch 37/100\n",
      "\u001b[1m74/74\u001b[0m \u001b[32m━━━━━━━━━━━━━━━━━━━━\u001b[0m\u001b[37m\u001b[0m \u001b[1m2s\u001b[0m 20ms/step - disease_output_accuracy: 0.8489 - disease_output_loss: 0.5264 - loss: 0.8766 - prescription_output_accuracy: 0.8935 - prescription_output_loss: 0.3504\n",
      "Epoch 38/100\n",
      "\u001b[1m74/74\u001b[0m \u001b[32m━━━━━━━━━━━━━━━━━━━━\u001b[0m\u001b[37m\u001b[0m \u001b[1m1s\u001b[0m 20ms/step - disease_output_accuracy: 0.8634 - disease_output_loss: 0.4692 - loss: 0.7991 - prescription_output_accuracy: 0.9037 - prescription_output_loss: 0.3299\n",
      "Epoch 39/100\n",
      "\u001b[1m74/74\u001b[0m \u001b[32m━━━━━━━━━━━━━━━━━━━━\u001b[0m\u001b[37m\u001b[0m \u001b[1m2s\u001b[0m 20ms/step - disease_output_accuracy: 0.8795 - disease_output_loss: 0.4251 - loss: 0.7114 - prescription_output_accuracy: 0.9149 - prescription_output_loss: 0.2864\n",
      "Epoch 40/100\n",
      "\u001b[1m74/74\u001b[0m \u001b[32m━━━━━━━━━━━━━━━━━━━━\u001b[0m\u001b[37m\u001b[0m \u001b[1m2s\u001b[0m 21ms/step - disease_output_accuracy: 0.8981 - disease_output_loss: 0.3456 - loss: 0.5929 - prescription_output_accuracy: 0.9255 - prescription_output_loss: 0.2473\n",
      "Epoch 41/100\n",
      "\u001b[1m74/74\u001b[0m \u001b[32m━━━━━━━━━━━━━━━━━━━━\u001b[0m\u001b[37m\u001b[0m \u001b[1m2s\u001b[0m 20ms/step - disease_output_accuracy: 0.9074 - disease_output_loss: 0.3158 - loss: 0.5456 - prescription_output_accuracy: 0.9302 - prescription_output_loss: 0.2298\n",
      "Epoch 42/100\n",
      "\u001b[1m74/74\u001b[0m \u001b[32m━━━━━━━━━━━━━━━━━━━━\u001b[0m\u001b[37m\u001b[0m \u001b[1m2s\u001b[0m 21ms/step - disease_output_accuracy: 0.9100 - disease_output_loss: 0.3212 - loss: 0.5371 - prescription_output_accuracy: 0.9283 - prescription_output_loss: 0.2160\n",
      "Epoch 43/100\n",
      "\u001b[1m74/74\u001b[0m \u001b[32m━━━━━━━━━━━━━━━━━━━━\u001b[0m\u001b[37m\u001b[0m \u001b[1m2s\u001b[0m 20ms/step - disease_output_accuracy: 0.9311 - disease_output_loss: 0.2648 - loss: 0.4620 - prescription_output_accuracy: 0.9394 - prescription_output_loss: 0.1972\n",
      "Epoch 44/100\n",
      "\u001b[1m74/74\u001b[0m \u001b[32m━━━━━━━━━━━━━━━━━━━━\u001b[0m\u001b[37m\u001b[0m \u001b[1m2s\u001b[0m 21ms/step - disease_output_accuracy: 0.9320 - disease_output_loss: 0.2560 - loss: 0.4426 - prescription_output_accuracy: 0.9422 - prescription_output_loss: 0.1866\n",
      "Epoch 45/100\n",
      "\u001b[1m74/74\u001b[0m \u001b[32m━━━━━━━━━━━━━━━━━━━━\u001b[0m\u001b[37m\u001b[0m \u001b[1m2s\u001b[0m 20ms/step - disease_output_accuracy: 0.9454 - disease_output_loss: 0.2176 - loss: 0.3846 - prescription_output_accuracy: 0.9489 - prescription_output_loss: 0.1670\n",
      "Epoch 46/100\n",
      "\u001b[1m74/74\u001b[0m \u001b[32m━━━━━━━━━━━━━━━━━━━━\u001b[0m\u001b[37m\u001b[0m \u001b[1m2s\u001b[0m 21ms/step - disease_output_accuracy: 0.9448 - disease_output_loss: 0.2085 - loss: 0.3711 - prescription_output_accuracy: 0.9507 - prescription_output_loss: 0.1626\n",
      "Epoch 47/100\n",
      "\u001b[1m74/74\u001b[0m \u001b[32m━━━━━━━━━━━━━━━━━━━━\u001b[0m\u001b[37m\u001b[0m \u001b[1m2s\u001b[0m 20ms/step - disease_output_accuracy: 0.9483 - disease_output_loss: 0.1896 - loss: 0.3255 - prescription_output_accuracy: 0.9566 - prescription_output_loss: 0.1359\n",
      "Epoch 48/100\n",
      "\u001b[1m74/74\u001b[0m \u001b[32m━━━━━━━━━━━━━━━━━━━━\u001b[0m\u001b[37m\u001b[0m \u001b[1m2s\u001b[0m 20ms/step - disease_output_accuracy: 0.9457 - disease_output_loss: 0.2034 - loss: 0.3615 - prescription_output_accuracy: 0.9534 - prescription_output_loss: 0.1580\n",
      "Epoch 49/100\n",
      "\u001b[1m74/74\u001b[0m \u001b[32m━━━━━━━━━━━━━━━━━━━━\u001b[0m\u001b[37m\u001b[0m \u001b[1m2s\u001b[0m 20ms/step - disease_output_accuracy: 0.9495 - disease_output_loss: 0.1922 - loss: 0.3465 - prescription_output_accuracy: 0.9511 - prescription_output_loss: 0.1544\n",
      "Epoch 50/100\n",
      "\u001b[1m74/74\u001b[0m \u001b[32m━━━━━━━━━━━━━━━━━━━━\u001b[0m\u001b[37m\u001b[0m \u001b[1m2s\u001b[0m 20ms/step - disease_output_accuracy: 0.9402 - disease_output_loss: 0.2266 - loss: 0.3897 - prescription_output_accuracy: 0.9494 - prescription_output_loss: 0.1632\n",
      "Epoch 51/100\n",
      "\u001b[1m74/74\u001b[0m \u001b[32m━━━━━━━━━━━━━━━━━━━━\u001b[0m\u001b[37m\u001b[0m \u001b[1m2s\u001b[0m 20ms/step - disease_output_accuracy: 0.9410 - disease_output_loss: 0.2284 - loss: 0.4085 - prescription_output_accuracy: 0.9430 - prescription_output_loss: 0.1801\n",
      "Epoch 52/100\n",
      "\u001b[1m74/74\u001b[0m \u001b[32m━━━━━━━━━━━━━━━━━━━━\u001b[0m\u001b[37m\u001b[0m \u001b[1m2s\u001b[0m 20ms/step - disease_output_accuracy: 0.9189 - disease_output_loss: 0.2900 - loss: 0.5005 - prescription_output_accuracy: 0.9343 - prescription_output_loss: 0.2105\n",
      "Epoch 53/100\n",
      "\u001b[1m74/74\u001b[0m \u001b[32m━━━━━━━━━━━━━━━━━━━━\u001b[0m\u001b[37m\u001b[0m \u001b[1m2s\u001b[0m 20ms/step - disease_output_accuracy: 0.8885 - disease_output_loss: 0.3675 - loss: 0.6411 - prescription_output_accuracy: 0.9169 - prescription_output_loss: 0.2737\n",
      "Epoch 54/100\n",
      "\u001b[1m74/74\u001b[0m \u001b[32m━━━━━━━━━━━━━━━━━━━━\u001b[0m\u001b[37m\u001b[0m \u001b[1m2s\u001b[0m 21ms/step - disease_output_accuracy: 0.7937 - disease_output_loss: 0.6730 - loss: 1.2208 - prescription_output_accuracy: 0.8493 - prescription_output_loss: 0.5479\n",
      "Epoch 55/100\n",
      "\u001b[1m74/74\u001b[0m \u001b[32m━━━━━━━━━━━━━━━━━━━━\u001b[0m\u001b[37m\u001b[0m \u001b[1m2s\u001b[0m 20ms/step - disease_output_accuracy: 0.7283 - disease_output_loss: 0.8905 - loss: 1.5860 - prescription_output_accuracy: 0.7962 - prescription_output_loss: 0.6957\n",
      "Epoch 56/100\n",
      "\u001b[1m74/74\u001b[0m \u001b[32m━━━━━━━━━━━━━━━━━━━━\u001b[0m\u001b[37m\u001b[0m \u001b[1m2s\u001b[0m 20ms/step - disease_output_accuracy: 0.6706 - disease_output_loss: 1.1322 - loss: 1.9995 - prescription_output_accuracy: 0.7537 - prescription_output_loss: 0.8680\n",
      "Epoch 57/100\n",
      "\u001b[1m74/74\u001b[0m \u001b[32m━━━━━━━━━━━━━━━━━━━━\u001b[0m\u001b[37m\u001b[0m \u001b[1m2s\u001b[0m 21ms/step - disease_output_accuracy: 0.6083 - disease_output_loss: 1.4599 - loss: 2.6372 - prescription_output_accuracy: 0.6838 - prescription_output_loss: 1.1774\n",
      "Epoch 58/100\n",
      "\u001b[1m74/74\u001b[0m \u001b[32m━━━━━━━━━━━━━━━━━━━━\u001b[0m\u001b[37m\u001b[0m \u001b[1m2s\u001b[0m 20ms/step - disease_output_accuracy: 0.6695 - disease_output_loss: 1.1269 - loss: 2.0016 - prescription_output_accuracy: 0.7545 - prescription_output_loss: 0.8748\n",
      "Epoch 59/100\n",
      "\u001b[1m74/74\u001b[0m \u001b[32m━━━━━━━━━━━━━━━━━━━━\u001b[0m\u001b[37m\u001b[0m \u001b[1m2s\u001b[0m 21ms/step - disease_output_accuracy: 0.7200 - disease_output_loss: 0.9192 - loss: 1.5839 - prescription_output_accuracy: 0.8222 - prescription_output_loss: 0.6647\n",
      "Epoch 60/100\n",
      "\u001b[1m74/74\u001b[0m \u001b[32m━━━━━━━━━━━━━━━━━━━━\u001b[0m\u001b[37m\u001b[0m \u001b[1m2s\u001b[0m 20ms/step - disease_output_accuracy: 0.7638 - disease_output_loss: 0.7859 - loss: 1.3303 - prescription_output_accuracy: 0.8360 - prescription_output_loss: 0.5444\n",
      "Epoch 61/100\n",
      "\u001b[1m74/74\u001b[0m \u001b[32m━━━━━━━━━━━━━━━━━━━━\u001b[0m\u001b[37m\u001b[0m \u001b[1m2s\u001b[0m 21ms/step - disease_output_accuracy: 0.8096 - disease_output_loss: 0.6119 - loss: 1.0209 - prescription_output_accuracy: 0.8806 - prescription_output_loss: 0.4089\n",
      "Epoch 62/100\n",
      "\u001b[1m74/74\u001b[0m \u001b[32m━━━━━━━━━━━━━━━━━━━━\u001b[0m\u001b[37m\u001b[0m \u001b[1m2s\u001b[0m 21ms/step - disease_output_accuracy: 0.8592 - disease_output_loss: 0.4582 - loss: 0.7512 - prescription_output_accuracy: 0.9118 - prescription_output_loss: 0.2933\n",
      "Epoch 63/100\n",
      "\u001b[1m74/74\u001b[0m \u001b[32m━━━━━━━━━━━━━━━━━━━━\u001b[0m\u001b[37m\u001b[0m \u001b[1m2s\u001b[0m 20ms/step - disease_output_accuracy: 0.8873 - disease_output_loss: 0.3903 - loss: 0.6481 - prescription_output_accuracy: 0.9187 - prescription_output_loss: 0.2577\n",
      "Epoch 64/100\n",
      "\u001b[1m74/74\u001b[0m \u001b[32m━━━━━━━━━━━━━━━━━━━━\u001b[0m\u001b[37m\u001b[0m \u001b[1m2s\u001b[0m 20ms/step - disease_output_accuracy: 0.8941 - disease_output_loss: 0.3443 - loss: 0.5537 - prescription_output_accuracy: 0.9345 - prescription_output_loss: 0.2094\n",
      "Epoch 65/100\n",
      "\u001b[1m74/74\u001b[0m \u001b[32m━━━━━━━━━━━━━━━━━━━━\u001b[0m\u001b[37m\u001b[0m \u001b[1m1s\u001b[0m 18ms/step - disease_output_accuracy: 0.9210 - disease_output_loss: 0.2890 - loss: 0.4837 - prescription_output_accuracy: 0.9394 - prescription_output_loss: 0.1948\n",
      "Epoch 66/100\n",
      "\u001b[1m74/74\u001b[0m \u001b[32m━━━━━━━━━━━━━━━━━━━━\u001b[0m\u001b[37m\u001b[0m \u001b[1m1s\u001b[0m 17ms/step - disease_output_accuracy: 0.9374 - disease_output_loss: 0.2306 - loss: 0.3796 - prescription_output_accuracy: 0.9535 - prescription_output_loss: 0.1491\n",
      "Epoch 67/100\n",
      "\u001b[1m74/74\u001b[0m \u001b[32m━━━━━━━━━━━━━━━━━━━━\u001b[0m\u001b[37m\u001b[0m \u001b[1m1s\u001b[0m 17ms/step - disease_output_accuracy: 0.9360 - disease_output_loss: 0.2215 - loss: 0.3774 - prescription_output_accuracy: 0.9488 - prescription_output_loss: 0.1559\n",
      "Epoch 68/100\n",
      "\u001b[1m74/74\u001b[0m \u001b[32m━━━━━━━━━━━━━━━━━━━━\u001b[0m\u001b[37m\u001b[0m \u001b[1m1s\u001b[0m 17ms/step - disease_output_accuracy: 0.9506 - disease_output_loss: 0.1761 - loss: 0.3053 - prescription_output_accuracy: 0.9572 - prescription_output_loss: 0.1293\n",
      "Epoch 69/100\n",
      "\u001b[1m74/74\u001b[0m \u001b[32m━━━━━━━━━━━━━━━━━━━━\u001b[0m\u001b[37m\u001b[0m \u001b[1m1s\u001b[0m 18ms/step - disease_output_accuracy: 0.9580 - disease_output_loss: 0.1667 - loss: 0.2857 - prescription_output_accuracy: 0.9609 - prescription_output_loss: 0.1191\n",
      "Epoch 70/100\n",
      "\u001b[1m74/74\u001b[0m \u001b[32m━━━━━━━━━━━━━━━━━━━━\u001b[0m\u001b[37m\u001b[0m \u001b[1m1s\u001b[0m 17ms/step - disease_output_accuracy: 0.9647 - disease_output_loss: 0.1408 - loss: 0.2686 - prescription_output_accuracy: 0.9608 - prescription_output_loss: 0.1278\n",
      "Epoch 71/100\n",
      "\u001b[1m74/74\u001b[0m \u001b[32m━━━━━━━━━━━━━━━━━━━━\u001b[0m\u001b[37m\u001b[0m \u001b[1m1s\u001b[0m 17ms/step - disease_output_accuracy: 0.9666 - disease_output_loss: 0.1344 - loss: 0.2516 - prescription_output_accuracy: 0.9632 - prescription_output_loss: 0.1172\n",
      "Epoch 72/100\n",
      "\u001b[1m74/74\u001b[0m \u001b[32m━━━━━━━━━━━━━━━━━━━━\u001b[0m\u001b[37m\u001b[0m \u001b[1m1s\u001b[0m 17ms/step - disease_output_accuracy: 0.9637 - disease_output_loss: 0.1430 - loss: 0.2608 - prescription_output_accuracy: 0.9597 - prescription_output_loss: 0.1178\n",
      "Epoch 73/100\n",
      "\u001b[1m74/74\u001b[0m \u001b[32m━━━━━━━━━━━━━━━━━━━━\u001b[0m\u001b[37m\u001b[0m \u001b[1m1s\u001b[0m 17ms/step - disease_output_accuracy: 0.9639 - disease_output_loss: 0.1394 - loss: 0.2558 - prescription_output_accuracy: 0.9648 - prescription_output_loss: 0.1165\n",
      "Epoch 74/100\n",
      "\u001b[1m74/74\u001b[0m \u001b[32m━━━━━━━━━━━━━━━━━━━━\u001b[0m\u001b[37m\u001b[0m \u001b[1m1s\u001b[0m 17ms/step - disease_output_accuracy: 0.9645 - disease_output_loss: 0.1324 - loss: 0.2530 - prescription_output_accuracy: 0.9617 - prescription_output_loss: 0.1207\n",
      "Epoch 75/100\n",
      "\u001b[1m74/74\u001b[0m \u001b[32m━━━━━━━━━━━━━━━━━━━━\u001b[0m\u001b[37m\u001b[0m \u001b[1m1s\u001b[0m 17ms/step - disease_output_accuracy: 0.9690 - disease_output_loss: 0.1273 - loss: 0.2338 - prescription_output_accuracy: 0.9640 - prescription_output_loss: 0.1065\n",
      "Epoch 76/100\n",
      "\u001b[1m74/74\u001b[0m \u001b[32m━━━━━━━━━━━━━━━━━━━━\u001b[0m\u001b[37m\u001b[0m \u001b[1m1s\u001b[0m 17ms/step - disease_output_accuracy: 0.9681 - disease_output_loss: 0.1141 - loss: 0.2226 - prescription_output_accuracy: 0.9636 - prescription_output_loss: 0.1085\n",
      "Epoch 77/100\n",
      "\u001b[1m74/74\u001b[0m \u001b[32m━━━━━━━━━━━━━━━━━━━━\u001b[0m\u001b[37m\u001b[0m \u001b[1m1s\u001b[0m 17ms/step - disease_output_accuracy: 0.9644 - disease_output_loss: 0.1229 - loss: 0.2267 - prescription_output_accuracy: 0.9670 - prescription_output_loss: 0.1038\n",
      "Epoch 78/100\n",
      "\u001b[1m74/74\u001b[0m \u001b[32m━━━━━━━━━━━━━━━━━━━━\u001b[0m\u001b[37m\u001b[0m \u001b[1m1s\u001b[0m 17ms/step - disease_output_accuracy: 0.9659 - disease_output_loss: 0.1228 - loss: 0.2329 - prescription_output_accuracy: 0.9620 - prescription_output_loss: 0.1100\n",
      "Epoch 79/100\n",
      "\u001b[1m74/74\u001b[0m \u001b[32m━━━━━━━━━━━━━━━━━━━━\u001b[0m\u001b[37m\u001b[0m \u001b[1m1s\u001b[0m 17ms/step - disease_output_accuracy: 0.9658 - disease_output_loss: 0.1218 - loss: 0.2296 - prescription_output_accuracy: 0.9631 - prescription_output_loss: 0.1079\n",
      "Epoch 80/100\n",
      "\u001b[1m74/74\u001b[0m \u001b[32m━━━━━━━━━━━━━━━━━━━━\u001b[0m\u001b[37m\u001b[0m \u001b[1m1s\u001b[0m 17ms/step - disease_output_accuracy: 0.9531 - disease_output_loss: 0.1581 - loss: 0.2806 - prescription_output_accuracy: 0.9605 - prescription_output_loss: 0.1224\n",
      "Epoch 81/100\n",
      "\u001b[1m74/74\u001b[0m \u001b[32m━━━━━━━━━━━━━━━━━━━━\u001b[0m\u001b[37m\u001b[0m \u001b[1m1s\u001b[0m 17ms/step - disease_output_accuracy: 0.9411 - disease_output_loss: 0.2089 - loss: 0.3521 - prescription_output_accuracy: 0.9521 - prescription_output_loss: 0.1434\n",
      "Epoch 82/100\n",
      "\u001b[1m74/74\u001b[0m \u001b[32m━━━━━━━━━━━━━━━━━━━━\u001b[0m\u001b[37m\u001b[0m \u001b[1m1s\u001b[0m 17ms/step - disease_output_accuracy: 0.8773 - disease_output_loss: 0.3944 - loss: 0.6598 - prescription_output_accuracy: 0.9185 - prescription_output_loss: 0.2655\n",
      "Epoch 83/100\n",
      "\u001b[1m74/74\u001b[0m \u001b[32m━━━━━━━━━━━━━━━━━━━━\u001b[0m\u001b[37m\u001b[0m \u001b[1m1s\u001b[0m 17ms/step - disease_output_accuracy: 0.7818 - disease_output_loss: 0.7603 - loss: 1.2815 - prescription_output_accuracy: 0.8500 - prescription_output_loss: 0.5213\n",
      "Epoch 84/100\n",
      "\u001b[1m74/74\u001b[0m \u001b[32m━━━━━━━━━━━━━━━━━━━━\u001b[0m\u001b[37m\u001b[0m \u001b[1m1s\u001b[0m 17ms/step - disease_output_accuracy: 0.6855 - disease_output_loss: 1.1104 - loss: 1.9606 - prescription_output_accuracy: 0.7655 - prescription_output_loss: 0.8503\n",
      "Epoch 85/100\n",
      "\u001b[1m74/74\u001b[0m \u001b[32m━━━━━━━━━━━━━━━━━━━━\u001b[0m\u001b[37m\u001b[0m \u001b[1m1s\u001b[0m 17ms/step - disease_output_accuracy: 0.6545 - disease_output_loss: 1.2471 - loss: 2.1532 - prescription_output_accuracy: 0.7475 - prescription_output_loss: 0.9066\n",
      "Epoch 86/100\n",
      "\u001b[1m74/74\u001b[0m \u001b[32m━━━━━━━━━━━━━━━━━━━━\u001b[0m\u001b[37m\u001b[0m \u001b[1m1s\u001b[0m 17ms/step - disease_output_accuracy: 0.6727 - disease_output_loss: 1.1832 - loss: 2.0434 - prescription_output_accuracy: 0.7662 - prescription_output_loss: 0.8601\n",
      "Epoch 87/100\n",
      "\u001b[1m74/74\u001b[0m \u001b[32m━━━━━━━━━━━━━━━━━━━━\u001b[0m\u001b[37m\u001b[0m \u001b[1m1s\u001b[0m 17ms/step - disease_output_accuracy: 0.7526 - disease_output_loss: 0.8540 - loss: 1.4085 - prescription_output_accuracy: 0.8314 - prescription_output_loss: 0.5545\n",
      "Epoch 88/100\n",
      "\u001b[1m74/74\u001b[0m \u001b[32m━━━━━━━━━━━━━━━━━━━━\u001b[0m\u001b[37m\u001b[0m \u001b[1m1s\u001b[0m 17ms/step - disease_output_accuracy: 0.7906 - disease_output_loss: 0.6641 - loss: 1.0593 - prescription_output_accuracy: 0.8697 - prescription_output_loss: 0.3955\n",
      "Epoch 89/100\n",
      "\u001b[1m74/74\u001b[0m \u001b[32m━━━━━━━━━━━━━━━━━━━━\u001b[0m\u001b[37m\u001b[0m \u001b[1m1s\u001b[0m 18ms/step - disease_output_accuracy: 0.8329 - disease_output_loss: 0.5186 - loss: 0.8256 - prescription_output_accuracy: 0.9073 - prescription_output_loss: 0.3071\n",
      "Epoch 90/100\n",
      "\u001b[1m74/74\u001b[0m \u001b[32m━━━━━━━━━━━━━━━━━━━━\u001b[0m\u001b[37m\u001b[0m \u001b[1m1s\u001b[0m 18ms/step - disease_output_accuracy: 0.8684 - disease_output_loss: 0.4221 - loss: 0.6655 - prescription_output_accuracy: 0.9227 - prescription_output_loss: 0.2434\n",
      "Epoch 91/100\n",
      "\u001b[1m74/74\u001b[0m \u001b[32m━━━━━━━━━━━━━━━━━━━━\u001b[0m\u001b[37m\u001b[0m \u001b[1m1s\u001b[0m 17ms/step - disease_output_accuracy: 0.8883 - disease_output_loss: 0.3539 - loss: 0.5881 - prescription_output_accuracy: 0.9300 - prescription_output_loss: 0.2342\n",
      "Epoch 92/100\n",
      "\u001b[1m74/74\u001b[0m \u001b[32m━━━━━━━━━━━━━━━━━━━━\u001b[0m\u001b[37m\u001b[0m \u001b[1m1s\u001b[0m 17ms/step - disease_output_accuracy: 0.9015 - disease_output_loss: 0.2988 - loss: 0.5088 - prescription_output_accuracy: 0.9356 - prescription_output_loss: 0.2099\n",
      "Epoch 93/100\n",
      "\u001b[1m74/74\u001b[0m \u001b[32m━━━━━━━━━━━━━━━━━━━━\u001b[0m\u001b[37m\u001b[0m \u001b[1m1s\u001b[0m 17ms/step - disease_output_accuracy: 0.9350 - disease_output_loss: 0.2301 - loss: 0.4013 - prescription_output_accuracy: 0.9450 - prescription_output_loss: 0.1714\n",
      "Epoch 94/100\n",
      "\u001b[1m74/74\u001b[0m \u001b[32m━━━━━━━━━━━━━━━━━━━━\u001b[0m\u001b[37m\u001b[0m \u001b[1m1s\u001b[0m 17ms/step - disease_output_accuracy: 0.9316 - disease_output_loss: 0.2198 - loss: 0.3777 - prescription_output_accuracy: 0.9479 - prescription_output_loss: 0.1580\n",
      "Epoch 95/100\n",
      "\u001b[1m74/74\u001b[0m \u001b[32m━━━━━━━━━━━━━━━━━━━━\u001b[0m\u001b[37m\u001b[0m \u001b[1m1s\u001b[0m 17ms/step - disease_output_accuracy: 0.9392 - disease_output_loss: 0.2076 - loss: 0.3399 - prescription_output_accuracy: 0.9562 - prescription_output_loss: 0.1324\n",
      "Epoch 96/100\n",
      "\u001b[1m74/74\u001b[0m \u001b[32m━━━━━━━━━━━━━━━━━━━━\u001b[0m\u001b[37m\u001b[0m \u001b[1m1s\u001b[0m 17ms/step - disease_output_accuracy: 0.9374 - disease_output_loss: 0.2144 - loss: 0.3633 - prescription_output_accuracy: 0.9523 - prescription_output_loss: 0.1490\n",
      "Epoch 97/100\n",
      "\u001b[1m74/74\u001b[0m \u001b[32m━━━━━━━━━━━━━━━━━━━━\u001b[0m\u001b[37m\u001b[0m \u001b[1m1s\u001b[0m 17ms/step - disease_output_accuracy: 0.9630 - disease_output_loss: 0.1601 - loss: 0.2897 - prescription_output_accuracy: 0.9613 - prescription_output_loss: 0.1297\n",
      "Epoch 98/100\n",
      "\u001b[1m74/74\u001b[0m \u001b[32m━━━━━━━━━━━━━━━━━━━━\u001b[0m\u001b[37m\u001b[0m \u001b[1m1s\u001b[0m 17ms/step - disease_output_accuracy: 0.9539 - disease_output_loss: 0.1560 - loss: 0.2751 - prescription_output_accuracy: 0.9604 - prescription_output_loss: 0.1191\n",
      "Epoch 99/100\n",
      "\u001b[1m74/74\u001b[0m \u001b[32m━━━━━━━━━━━━━━━━━━━━\u001b[0m\u001b[37m\u001b[0m \u001b[1m1s\u001b[0m 17ms/step - disease_output_accuracy: 0.9627 - disease_output_loss: 0.1349 - loss: 0.2391 - prescription_output_accuracy: 0.9640 - prescription_output_loss: 0.1042\n",
      "Epoch 100/100\n",
      "\u001b[1m74/74\u001b[0m \u001b[32m━━━━━━━━━━━━━━━━━━━━\u001b[0m\u001b[37m\u001b[0m \u001b[1m1s\u001b[0m 17ms/step - disease_output_accuracy: 0.9660 - disease_output_loss: 0.1206 - loss: 0.2262 - prescription_output_accuracy: 0.9640 - prescription_output_loss: 0.1056\n"
     ]
    },
    {
     "data": {
      "text/plain": [
       "<keras.src.callbacks.history.History at 0x29a62753c70>"
      ]
     },
     "execution_count": 9,
     "metadata": {},
     "output_type": "execute_result"
    }
   ],
   "source": [
    "model.fit(padded_sequences, {'disease_output': disease_labels_categorical, 'prescription_output': prescription_labels_categorical}, epochs=60, batch_size=64)"
   ]
  },
  {
   "cell_type": "markdown",
   "metadata": {},
   "source": [
    "### Xây dựng hàm dự đoán bệnh và đơn thuốc từ mô tả ban đầu của bệnh nhân"
   ]
  },
  {
   "cell_type": "code",
   "execution_count": 18,
   "metadata": {},
   "outputs": [],
   "source": [
    "def make_prediction(input_text):\n",
    "    tokenized_text = ViTokenizer.tokenize(input_text)\n",
    "    sequence = [vocab[word] for word in tokenized_text.split() if word in vocab] #chuyển đổi văn bản thành chuối số\n",
    "    padded_sequence = pad_sequences([sequence], maxlen=100)\n",
    "    prediction = model.predict(padded_sequence)\n",
    "    \n",
    "    disease_prediction = label_encoder_disease.inverse_transform(np.argmax(prediction[0], axis=1))\n",
    "    prescription_prediction = label_encoder_prescription.inverse_transform(np.argmax(prediction[1], axis=1))\n",
    "    \n",
    "    return disease_prediction[0], prescription_prediction[0]"
   ]
  },
  {
   "cell_type": "code",
   "execution_count": 19,
   "metadata": {},
   "outputs": [
    {
     "name": "stdout",
     "output_type": "stream",
     "text": [
      "\u001b[1m1/1\u001b[0m \u001b[32m━━━━━━━━━━━━━━━━━━━━\u001b[0m\u001b[37m\u001b[0m \u001b[1m0s\u001b[0m 185ms/step\n",
      "Vấn đề của bệnh nhân: tôi thường xuyên bị khó tiêu, ợ chua và đầy hơi\n",
      "Bệnh dự đoán: Ung thư phổi\n",
      "Đơn thuốc dự đoán: Hóa trị, liệu pháp thuốc nhắm mục tiêu.\n",
      "\u001b[1m1/1\u001b[0m \u001b[32m━━━━━━━━━━━━━━━━━━━━\u001b[0m\u001b[37m\u001b[0m \u001b[1m0s\u001b[0m 37ms/step\n",
      "Vấn đề của bệnh nhân: tôi thường xuyên bị khó tiêu, ợ chua và đầy hơi\n",
      "Bệnh dự đoán: Ung thư phổi\n",
      "Đơn thuốc dự đoán: Hóa trị, liệu pháp thuốc nhắm mục tiêu.\n",
      "\u001b[1m1/1\u001b[0m \u001b[32m━━━━━━━━━━━━━━━━━━━━\u001b[0m\u001b[37m\u001b[0m \u001b[1m0s\u001b[0m 20ms/step\n",
      "Vấn đề của bệnh nhân: \n",
      "Bệnh dự đoán: \n",
      "Đơn thuốc dự đoán: \n",
      "\u001b[1m1/1\u001b[0m \u001b[32m━━━━━━━━━━━━━━━━━━━━\u001b[0m\u001b[37m\u001b[0m \u001b[1m0s\u001b[0m 32ms/step\n",
      "Vấn đề của bệnh nhân: đau bụng\n",
      "Bệnh dự đoán: \n",
      "Đơn thuốc dự đoán: \n"
     ]
    }
   ],
   "source": [
    "def main():\n",
    "    while True:\n",
    "        input_text = input(\"Nhập mô tả bệnh (hoặc gõ 'exit' để thoát): \")\n",
    "        if input_text.lower() == 'exit':\n",
    "            break\n",
    "        disease, prescription = make_prediction(input_text)\n",
    "        print(f\"Vấn đề của bệnh nhân: {input_text}\")\n",
    "        print(f\"Bệnh dự đoán: {disease}\")\n",
    "        print(f\"Đơn thuốc dự đoán: {prescription}\")\n",
    "\n",
    "main()"
   ]
  },
  {
   "cell_type": "code",
   "execution_count": 5,
   "metadata": {},
   "outputs": [
    {
     "name": "stdout",
     "output_type": "stream",
     "text": [
      "vocab loaded successfully: {'Thường_xuyên': 1, 'bị': 2, 'đau': 3, 'nửa': 4, 'đầu': 5, 'dữ_dội': 6, ',': 7, 'nhạy_cảm': 8, 'với': 9, 'ánh_sáng': 10, 'và': 11, 'âm_thanh': 12, '.': 13, 'Tăng': 14, 'cân': 15, 'đột_ngột': 16, 'cảm_thấy': 17, 'lạnh': 18, 'đặc_biệt': 19, 'là': 20, 'ở': 21, 'tay': 22, 'chân': 23, 'Sốt_cao': 24, 'họng': 25, 'hạch': 26, 'bạch_huyết': 27, 'sưng': 28, 'rất': 29, 'yếu': 30, 'Khát': 31, 'nước': 32, 'nhiều': 33, 'đi_tiểu': 34, 'thường_xuyên': 35, 'khô': 36, 'miệng': 37, 'dai_dẳng': 38, 'Đau': 39, 'ngực': 40, 'đau_nhói': 41, 'tăng': 42, 'lên': 43, 'khi': 44, 'nằm_xuống': 45, 'hoặc': 46, 'hít': 47, 'thở': 48, 'sâu': 49, 'Giảm': 50, 'không': 51, 'rõ': 52, 'nguyên_nhân': 53, 'đổ': 54, 'mồ_hôi': 55, 'đêm': 56, 'sốt': 57, 'bụng': 58, 'lan': 59, 'ra': 60, 'sau': 61, 'lưng': 62, 'buồn_nôn': 63, 'nhưng': 64, 'nôn': 65, 'Sưng': 66, 'cứng': 67, 'khớp': 68, 'vào': 69, 'buổi': 70, 'sáng': 71, 'ngón': 72, 'cổ_tay': 73, 'Các': 74, 'mụn': 75, 'đau_đớn': 76, 'tái_phát': 77, 'quanh': 78, 'mũi': 79, 'Khó': 80, 'nuốt': 81, 'ngày_càng': 82, 'kèm': 83, 'theo': 84, 'chứng': 85, 'ợ': 86, 'nóng': 87, 'Tiêu_chảy': 88, 'mãn_tính': 89, 'đầy': 90, 'hơi': 91, 'Ngứa': 92, 'ban_đêm': 93, 'có_thể': 94, 'nhìn': 95, 'thấy': 96, 'các': 97, 'hang_ổ': 98, 'trên': 99, 'da': 100, 'Vàng': 101, 'mắt': 102, 'nước_tiểu': 103, 'sẫm': 104, 'màu': 105, 'mệt_mỏi': 106, 'nói_chung': 107, 'Đau_đầu': 108, 'mờ': 109, 'Ho': 110, 'đờm': 111, 'có': 112, 'lẫn': 113, 'máu': 114, 'Chảy_máu': 115, 'dễ': 116, 'bầm': 117, 'tím': 118, 'chảy_máu': 119, 'kéo_dài': 120, 'do': 121, 'vết': 122, 'cắt': 123, 'phát_ban': 124, 'ăn': 125, 'một_số': 126, 'loại': 127, 'thực_phẩm': 128, 'nhất_định': 129, 'Nhiễm_trùng': 130, 'đường': 131, 'tiết_niệu': 132, 'cảm_giác': 133, 'rát': 134, 'tập_trung': 135, 'mất_trí_nhớ': 136, 'lú_lẫn': 137, 'Tôi': 138, 'cực_kỳ': 139, 'khó': 140, 'đau_đầu': 141, 'Nhận': 142, 'tình_trạng': 143, 'ho': 144, 'thỉnh_thoảng': 145, 'khò_khè': 146, 'Đột_nhiên': 147, 'tim': 148, 'đập': 149, 'nhanh': 150, 'choáng_váng': 151, 'mong_muốn': 152, 'liên_tục': 153, 'khát': 154, 'tay_chân': 155, 'dạ_dày': 156, 'thay_đổi': 157, 'thói_quen': 158, 'đi_tiêu': 159, 'Mụn': 160, 'trứng_cá': 161, 'nghiêm_trọng': 162, 'mặt': 163, 'đáp_ứng': 164, 'phương_pháp': 165, 'điều_trị': 166, 'kê': 167, 'đơn': 168, 'ngủ': 169, 'thức_giấc': 170, 'Luôn': 171, 'buồn_bã': 172, 'mất': 173, 'hứng_thú': 174, 'hoạt_động': 175, 'Nhìn': 176, 'vật': 177, 'gần': 178, 'xa': 179, 'Đi_tiểu': 180, 'cái': 181, 'đỏ': 182, 'xung_quanh': 183, 'thể_chất': 184, 'tức': 185, 'Những': 186, 'cơn': 187, 'chóng_mặt': 188, 'như': 189, 'căn': 190, 'phòng': 191, 'đang': 192, 'quay_cuồng': 193, 'Đổ': 194, 'quá': 195, 'ngay': 196, 'cả': 197, 'tham_gia': 198, 'Tê': 199, 'ngứa': 200, 'ran': 201, 'cơ': 202, 'Đau_nhói': 203, 'nhói': 204, 'hơn': 205, 'Dạ_dày': 206, 'của': 207, 'tôi': 208, 'khó_chịu': 209, 'tiêu_chảy': 210, 'nhận': 211, 'một': 212, 'cánh_tay': 213, 'rộng': 214, 'đau_đầu_gối': 215, 'đi': 216, 'bộ': 217, 'leo': 218, 'cầu_thang': 219, 'Tầm': 220, 'trở_nên': 221, 'đọc': 222, 'Gần': 223, 'đây': 224, 'đã': 225, 'đủ': 226, 'giấc': 227, 'ngồi': 228, 'trong': 229, 'thời_gian': 230, 'dài': 231, 'mức': 232, 'gặp': 233, 'khó_khăn': 234, 'việc': 235, 'lo_lắng': 236, 'bồn_chồn': 237, 'Họng': 238, 'vài': 239, 'ngày': 240, 'chán_nản': 241, 'động_lực': 242, 'để': 243, 'làm': 244, 'những': 245, 'công_việc': 246, 'hàng': 247, 'sụt': 248, 'thèm': 249, 'ù': 250, 'tai': 251, 'ảnh_hưởng': 252, 'đến': 253, 'thính_giác': 254, 'bình_thường': 255, 'mình': 256, 'chuyển': 257, 'sang': 258, 'vàng': 259, 'vùng': 260, 'cổ_họng': 261, 'thắt': 262, 'lại': 263, 'tê': 264, 'uể_oải': 265, 'bất_thường': 266, 'tháng': 267, 'qua': 268, 'Cảm_thấy': 269, 'Tay': 270, 'run_rẩy': 271, 'kiểm_soát': 272, 'được': 273, 'Đau_nửa': 274, 'giờ': 275, 'này': 276, 'tệ': 277, 'cuối': 278, 'Sốt': 279, 'cao': 280, 'ớn': 281, 'thời_tiết': 282, 'mát_mẻ': 283, 'mảng': 284, 'chạm': 285, 'Mắt': 286, 'cộm': 287, 'Cảm_giác': 288, 'hạn_chế': 289, 'khả_năng': 290, 'vận_động': 291, 'Cơn': 292, 'ba': 293, 'tuần': 294, 'Trí_nhớ': 295, 'suy_giảm': 296, 'tuyệt_vọng': 297, 'Mệt_mỏi': 298, 'gắng_sức': 299, 'nhẹ': 300, 'trào': 301, 'ngược': 302, 'axit': 303, 'chảy': 304, 'nước_mắt': 305, 'hắt_hơi': 306, 'ngoài_trời': 307, 'dưới': 308, 'cúi': 309, 'nâng': 310, 'gì': 311, 'đó': 312, 'bàn_tay': 313, 'xanh': 314, 'Thay_đổi': 315, 'tâm_trạng': 316, 'năng_lượng': 317, 'Mờ': 318, 'đục': 319, 'nứt_nẻ': 320, 'nặng': 321, 'Chóng_mặt': 322, 'thăng_bằng': 323, 'đứng': 324, 'dậy': 325, 'Móng': 326, 'giòn': 327, 'rụng': 328, 'tóc': 329, 'Run_tay': 330, 'kỹ_năng': 331, 'tinh': 332, 'Mất_ngủ': 333, 'duy_trì': 334, 'giấc_ngủ': 335, 'lo_âu': 336, 'hoảng_loạn': 337, 'khá': 338, 'đầu_gối': 339, 'màn_hình': 340, 'đói': 341, 'chịu': 342, 'nhiệt': 343, 'Da': 344, 'luôn': 345, 'Nhịp': 346, 'đều': 347, 'trí_nhớ': 348, 'Yếu_cơ': 349, 'chuột_rút': 350, 'mà': 351, 'cần': 352, 'lý_do': 353, 'chán': 354, 'có_lý_do': 355, 'rõ_ràng': 356, 'chế_độ': 357, 'Phát_ban': 358, 'Buồn_nôn': 359, 'Mất': 360, 'khứu_giác': 361, 'vị_giác': 362, 'Vết': 363, 'Tiếng': 364, 'chuông': 365, 'thức_ăn': 366, 'chất_lỏng': 367, 'Nướu': 368, 'cực_độ': 369, 'tối_thiểu': 370, 'Rụng': 371, 'từng': 372, 'Chuột_rút': 373, 'co': 374, 'cáu_kỉnh': 375, 'độ': 376, 'nhiệm_vụ': 377, 'phối_hợp': 378, 'Hầu_như': 379, 'nào': 380, 'cũng': 381, 'Có': 382, 'cẳng_tay': 383, 'Đầu_gối': 384, 'vật_thể': 385, 'trôi_nổi': 386, 'tầm': 387, 'nghỉ_ngơi': 388, 'Bệnh': 389, 'dị_ứng': 390, 'mùa': 391, 'nghe': 392, 'tiếng': 393, 'reo': 394, 'cố_gắng': 395, 'còn': 396, 'minh_mẫn': 397, 'nữa': 398, 'Thỉnh_thoảng': 399, 'giảm': 400, 'đáng_kể': 401, 'xuất_hiện': 402, 'chấn_thương': 403, 'Gặp': 404, 'phân': 405, 'môi_trường': 406, 'ấm_áp': 407, 'Chu_kỳ': 408, 'kinh_nguyệt': 409, 'mắt_cá': 410, 'hai': 411, 'hầu_như': 412, 'vậy': 413, 'ho_khan': 414, 'khỏi': 415, 'lần': 416, 'đôi_khi': 417, 'sắp': 418, 'ngất': 419, 'làm_việc': 420, 'nhà': 421, 'chỉ': 422, 'thuyên_giảm': 423, 'mặc_dù': 424, 'dùng': 425, 'thuốc': 426, 'trải': 427, 'giai_đoạn': 428, 'tột_độ': 429, 'bên': 430, 'ấm': 431, 'thị_lực': 432, 'sự': 433, 'bao_gồm': 434, 'đốm': 435, 'đen': 436, 'khiến': 437, 'nói': 438, 'khối_u': 439, 'cổ': 440, 'nó': 441, 'vẻ': 442, 'phát_triển': 443, 'bàn_chân': 444, 'tác_dụng': 445, 'dường_như': 446, 'kém': 447, 'quên': 448, 'điều': 449, 'thông_thường': 450, 'đột_nhiên': 451, 'tia': 452, 'lơ_lửng': 453, 'khắp': 454, 'cơ_thể': 455, 'lúc_nào': 456, 'hề': 457, 'biến': 458, 'thích': 459, 'thực_hiện': 460, 'đơn_giản': 461, 'trước': 462, 'dễ_dàng': 463, 'phải': 464, 'mới': 465, 'cầm': 466, 'bất_kể': 467, 'bao_nhiêu': 468, 'căng_thẳng': 469, 'giống': 470, 'bất_kỳ': 471, 'hồi_hộp': 472, 'tiêu': 473, 'Một': 474, 'nốt_ruồi': 475, 'màu_sắc': 476, 'kích_thước': 477, 'Run_rẩy': 478, 'sưng_húp': 479, 'uống': 480, 'ngất_xỉu': 481, 'Tình_trạng': 482, 'Thức_giấc': 483, 'vì': 484, 'hổn_hển': 485, 'Cứng': 486, 'Bị': 487, 'nhiệt_độ': 488, 'Cổ_họng': 489, 'giọng': 490, 'đáng': 491, 'lo_ngại': 492, 'dần': 493, 'Tay_chân': 494, 'thường': 495, 'vấn_đề': 496, 'Ho_khan': 497, 'Tổn_thương': 498, 'bất_ngờ': 499, 'cục': 500, 'u': 501, 'gây': 502, 'nhớ': 503, 'sự_kiện': 504, 'lâu': 505, 'Xuất_hiện': 506, 'cuộc_sống': 507, 'lóe': 508, 'chặt': 509, 'chủ_ý': 510, 'cứng_cổ': 511, 'côn_trùng': 512, 'cắn': 513, 'môi': 514, 'bụng_dưới': 515, 'trắng': 516, 'lưỡi': 517, 'Hạch': 518, 'Đột_ngột': 519, 'liệt': 520, 'chú_ý': 521, 'cánh_tay_trái': 522, 'bữa': 523, 'vị': 524, 'kim_loại': 525, 'nhức': 526, 'vai': 527, 'dứt': 528, 'loét': 529, 'bong': 530, 'tróc': 531, 'Hắt_hơi': 532, 'xuân': 533, 'Phân': 534, 'đi_ngoài': 535, 'Đo': 536, 'huyết_áp_cao': 537, 'bao_phủ': 538, 'bởi': 539, 'vảy': 540, 'bạc': 541, 'Sợ_hãi': 542, 'tránh_né': 543, 'tình_huống': 544, 'xã_hội': 545, 'hình_ảnh': 546, 'đôi': 547, 'buồn': 548, 'tiểu': 549, 'tập_thể_dục': 550, 'Ngáy': 551, 'trọn_vẹn': 552, 'kêu': 553, 'lục_cục': 554, 'hàm': 555, 'hói': 556, 'tròn': 557, 'giữa': 558, 'Trải': 559, 'sâu_sắc': 560, 'vướng_víu': 561, 'Phản_ứng': 562, 'đậu_phộng': 563, 'cải_thiện': 564, 'xanh_xao': 565, 'Sốt_kèm': 566, 'má': 567, 'cấp_tính': 568, 'xuống': 569, 'háng': 570, 'nâu': 571, 'chủ_yếu': 572, 'trên_cơ_thể': 573, 'Tần_suất': 574, 'cường_độ': 575, 'Chuyển_động': 576, 'nhanh_chóng': 577, 'từ': 578, 'kia': 579, 'cảm_nhận': 580, 'ngoài': 581, 'Khó_giữ': 582, 'vệt': 583, 'xước': 584, 'ong': 585, 'đốt': 586, 'không_thể': 587, 'nổi': 588, 'đồ': 589, 'cay': 590, 'Buồn_bã': 591, 'chạy': 592, 'dọc': 593, 'sợ_hãi': 594, 'trời': 595, 'mát': 596, 'gân': 597, 'Achilles': 598, 'phía': 599, 'mắc_kẹt': 600, 'dấu_hiệu': 601, 'nhiễm_trùng': 602, 'Tóc': 603, 'đỉnh': 604, 'mỏng': 605, 'Chảy': 606, 'dịch': 607, 'lá': 608, 'cây': 609, 'kích_ứng': 610, 'hiểu': 611, 'lời_nói': 612, 'thính_lực': 613, 'tần_suất': 614, 'Khô': 615, 'mỏi_mắt': 616, 'nhờn': 617, 'mất_ngủ': 618, 'Tức': 619, 'Chán_ăn': 620, 'chướng': 621, 'Đầy': 622, 'quặn': 623, 'về': 624, 'sổ_mũi': 625, 'ngứa_mắt': 626, 'móng': 627, 'trung_bình': 628, 'xảy': 629, 'nhợt_nhạt': 630, 'gàu': 631, 'Căng_thẳng': 632, 'rối_loạn': 633, 'quặn_thắt': 634, 'đỏ_bừng': 635, 'Da_ngứa': 636, 'khuỷu': 637, 'Đi_tiêu': 638, 'hôi': 639, 'nốt': 640, 'sần': 641, 'nhỏ': 642, 'cơ_bắp': 643, 'châm_chích': 644, 'ngứa_ngáy': 645, 'chèn_ép': 646, 'no': 647, 'chói': 648, 'Tiểu': 649, 'nhăn_nheo': 650, 'bị_thương': 651, 'Nhức': 652, 'tư_thế': 653, 'tấy': 654, 'nôn_mửa': 655, 'Ngứa_mắt': 656, 'hay': 657, 'giật_mình': 658, 'nước_mũi': 659, 'di_chuyển': 660, 'Huyết_áp_cao': 661, 'Đau_răng': 662, 'máy_tính': 663, 'Huyết_áp_thấp': 664, 'Khó_chịu': 665, 'mụn_nhọt': 666, 'ồn': 667, 'mẩn': 668, 'răng': 669, 'ăn_đồ': 670, 'tổn_thương': 671, 'hải_sản': 672, 'Khó_khăn': 673, 'tiểu_tiện': 674, 'muốn': 675, 'chua': 676, 'Đau_cơ': 677, 'khản': 678, 'lái': 679, 'xe': 680, 'xoay': 681, 'tiếp_xúc': 682, 'hóa_chất': 683, 'sức_sống': 684, 'tỉnh': 685, 'khu_vực': 686, 'dị_nguyên': 687, 'ánh': 688, 'nắng': 689, 'nhai': 690, 'thiếu': 691, 'buồn_ngủ': 692, 'quan_trọng': 693, 'sai': 694, 'suốt': 695, 'tỉnh_táo': 696, 'nguồn_gốc': 697, 'thức': 698, 'tàu': 699, 'viêm': 700, 'lái_xe': 701, 'yên': 702, 'mỏi': 703, 'thư': 704, 'giãn': 705, 'chứa': 706, 'gluten': 707, 'thuyết_trình': 708, 'ôi': 709, 'thiu': 710, 'cổ_chân': 711, 'ngon_miệng': 712, 'nặng_nề': 713, 'bụi': 714, 'triệu_chứng': 715, 'kết_mạc': 716, 'khám': 717, 'bệnh': 718, 'chiều': 719, 'cảm': 720, 'nơi': 721, 'đông': 722, 'người': 723, 'lạ': 724, 'gối': 725, 'bài': 726, 'kiểm_tra': 727, 'tươi': 728, 'sữa': 729, 'hông': 730, 'gáy': 731, 'sử_dụng': 732, 'điện_thoại': 733, 'ngạt': 734, 'văn_phòng': 735, 'chiên': 736, 'cồn_cào': 737, 'giày': 738, 'chật': 739, 'hanh': 740, 'khuya': 741, 'chờ_đợi': 742, 'kết_quả': 743, 'thi': 744, 'bả_vai': 745, 'múi_giờ': 746, 'dầu_mỡ': 747, 'gặp_gỡ': 748, 'phỏng_vấn': 749, 'áp_lực': 750, 'gõ': 751, 'phím': 752, 'máy_bay': 753, 'rượu': 754, 'mang': 755, 'vác': 756, 'ban_ngày': 757, 'lịch': 758, 'xương_chậu': 759, 'stress': 760, 'trưa': 761, 'tắm': 762, 'cạnh': 763, 'căng': 764, 'bọ': 765, 'chơi': 766, 'thể_thao': 767, 'sốc': 768, 'phấn': 769, 'hoa': 770, 'cà_phê': 771, 'gội': 772, 'lớn': 773, 'nước_lạnh': 774, 'ngọt': 775, 'kế_hoạch': 776, 'trái_cây': 777, 'kinh': 778, 'nằm': 779, 'đúng': 780, 'cười': 781, 'mỹ_phẩm': 782, 'sách': 783, 'đi_cầu_thang': 784, 'ngửi': 785, 'mùi': 786, 'mạnh': 787, 'hợp': 788, 'vệ_sinh': 789, 'vị_trí': 790, 'quá_sức': 791, 'cẳng_chân': 792, 'ốm': 793, 'nắng_nóng': 794, 'gấp': 795, 'Ngứa_ngáy': 796, 'chất': 797, 'Vùng': 798, 'thẳng': 799, 'nhạt': 800, 'Sụt': 801, 'yếu_ớt': 802, 'điểm': 803, 'chớp': 804, 'âm_ỉ': 805, 'trọng_lượng': 806, 'Nghẹt': 807, 'táo_bón': 808, 'bàn_phím': 809, 'tạm_thời': 810, 'lành_mạnh': 811, 'ít': 812, 'cáu_gắt': 813, 'nghẹt': 814, 'nấm_mốc': 815, 'tại': 816, 'ăn_uống': 817, 'lan_tỏa': 818, 'đường_hầm': 819, 'đậm': 820, 'Dễ': 821, 'mỗi': 822, 'biển': 823, 'khác': 824, 'nhầm_lẫn': 825, 'sức': 826, 'chịu_đựng': 827, 'Nổi': 828, 'mủ': 829, 'bóng': 830, 'toát': 831, 'cảm_xúc': 832, 'thất_thường': 833, 'lúc': 834, 'hưng_phấn': 835, 'hành_vi': 836, 'ra_mắt': 837, 'trán': 838, 'kỳ': 839, 'chậm': 840, 'đi_lại': 841, 'không_vận_động': 842, 'ban': 843, 'đè': 844, 'trước_mắt': 845, 'bắt_đầu': 846, 'dù': 847, 'sần_sùi': 848, 'thậm_chí': 849, 'khàn': 850, 'toàn_thân': 851, 'kiệt_sức': 852, 'hiện_tượng': 853, 'vẫn': 854, 'nhịp': 855, 'Sút_cân': 856, 'cử_động': 857, 'xương': 858, 'ức': 859, 'nghẹn': 860, 'thành': 861, 'ghẻ': 862, 'đào_sâu': 863, 'triền_miên': 864, 'ý_thức': 865, 'thoáng': 866, 'sút_cân': 867, 'Chảy_máu_cam': 868, 'va_chạm': 869, 'tím_tái': 870, 'mề_đay': 871, 'Tiểu_buốt': 872, 'lượng': 873, 'tên': 874, 'quen': 875, 'nổi_giận': 876, 'lạc': 877, 'lối': 878, 'địa_điểm': 879, 'quen_thuộc': 880, 'xoang': 881, 'nghiêng': 882, 'lòng': 883, 'dày': 884, 'ngón_cái': 885, 'sạm': 886, 'Thở': 887, 'khói': 888, 'kim': 889, 'châm': 890, 'nắm': 891, 'đồ_vật': 892, 'gập': 893, 'chu_kỳ': 894, 'bỏng': 895, 'giữa_chừng': 896, 'Tiểu_tiện': 897, 'tự_chủ': 898, 'nhịn': 899, 'bàng_quang': 900, 'hạ': 901, 'sườn': 902, 'Đau_bụng': 903, 'thắt_lưng': 904, 'Rát': 905, 'dị_vật': 906, 'sống': 907, 'ngắn': 908, 'Tâm_trạng': 909, 'vui_vẻ': 910, 'rồi': 911, 'trầm_cảm': 912, 'hằng': 913, 'ấn': 914, 'phù': 915, 'mỡ': 916, 'tối': 917, 'tinh_thần': 918, 'bẹn': 919, 'lồi': 920, 'vòng': 921, 'đắng': 922, 'hè': 923, 'tẩy_rửa': 924, 'buốt': 925, 'hạ_sườn': 926, 'trái': 927, 'đỏ_ửng': 928, 'lạo_xạo': 929, 'đùi': 930, 'cát': 931, 'đảm_bảo_vệ_sinh': 932, 'quay': 933, 'mi': 934, 'thai': 935, 'nướu': 936, 'rít': 937, 'thái_dương': 938, 'ép': 939, 'chậu': 940, 'gió': 941, 'kín': 942, 'khí_hư': 943, 'vươn': 944, 'răng_rắc': 945, 'nứt': 946, 'gót': 947, 'mệt': 948, 'ban_đầu': 949, 'kết': 950, 'gãi': 951, 'thượng_vị': 952, 'xu_hướng': 953, 'rượu_bia': 954, 'kẹp': 955, 'vô_cớ': 956, 'đánh': 957, 'trống_ngực': 958, 'đầu_óc': 959, 'kích_động': 960, 'máy_lạnh': 961, 'lạnh_ngắt': 962, 'lách_cách': 963, 'phần': 964, 'đạm': 965, 'xúc_động': 966, 'cây_cỏ': 967, 'bẩn': 968, 'nổi_bật': 969, 'thì': 970, 'trắng_bệch': 971, 'trống_rỗng': 972, 'xiết': 973, 'ngã': 974, 'cùng': 975, 'nấc_cụt': 976, 'chặn': 977, 'rửa': 978, 'ói': 979, 'mửa': 980, 'suy_nghĩ': 981, 'ngừng': 982, 'tác_nhân': 983, 'thường_ngày': 984, 'rã_rời': 985, 'rải_rác': 986, 'đi_tiểu_liên_tục': 987, 'dính': 988, 'vòm_miệng': 989, 'lành': 990, 'purin': 991, 'hiệu_suất': 992, 'rõ_rệt': 993, 'yếu_đuối': 994, 'tiếng_động': 995, 'búa': 996, 'chi': 997, 'giữ': 998, 'nhảy': 999, 'dịu': 1000, 'mở_mắt': 1001, 'vết_thương': 1002, 'xen_kẽ': 1003, 'thoải_mái': 1004, 'bì': 1005, '30': 1006, 'phút': 1007, 'kiểu': 1008, 'lạnh_lẽo': 1009, 'xót': 1010, 'hài_lòng': 1011, 'tĩnh_mạch': 1012, 'ngồi_không': 1013, 'động': 1014, 'nhất': 1015, 'khối': 1016, 'cản_trở': 1017, 'chất_béo': 1018, 'gia_vị': 1019, 'viêm_nhiễm': 1020, 'cân_bằng': 1021, 'sinh_dục': 1022, 'quan_hệ': 1023, 'tình_dục': 1024, 'hát': 1025, 'vùng_dưới': 1026, 'rốn': 1027, 'lở_loét': 1028, 'triệu_chứng_ho': 1029, 'suy_nhược': 1030, 'cứng_nhắc': 1031, 'kéo': 1032, 'to': 1033, 'ẩm': 1034, 'dịch_âm_đạo': 1035, 'đặc': 1036, 'bóp_nghẹt': 1037, 'tiêu_hóa': 1038, 'bằng': 1039, 'không_khí': 1040, 'màn': 1041, 'che': 1042, 'mông': 1043, 'sạch': 1044, 'ẩm_ướt': 1045, 'thể_lực': 1046, 'mặt_trời': 1047, 'lợn_cợn': 1048, 'ngột_ngạt': 1049, 'âm_đạo': 1050, 'ăn_không': 1051, 'ngon': 1052, 'ổn_định': 1053, 'nắm_bắt': 1054, 'an_toàn': 1055, '39': 1056, 'C': 1057, '2': 1058, 'trôi': 1059, '(': 1060, 'khoảng': 1061, '10': 1062, '/': 1063, ')': 1064, 'triệu_chứng_ngứa': 1065, '5': 1066, '-': 1067, '7': 1068, 'kg': 1069, 'lỏng': 1070, 'cản': 1071, 'tăng_cường_độ': 1072, 'Có_thể': 1073, 'hào_quang': 1074, '40': 1075, '8': 1076, 'giải_thích': 1077, 'bóp': 1078, 'mật': 1079, 'gia_tăng': 1080, '3': 1081, 'triệu_chứng_đau': 1082, 'chưa': 1083, 'giảm_sút': 1084, 'huyết_áp': 1085, 'chuyển_động': 1086, 'xấu': 1087, 'phù_nề': 1088, 'ngắn_hạn': 1089, 'phồng': 1090, 'rộp': 1091, 'như_không': 1092, 'hốc': 1093, 'thoái_hóa': 1094, 'Đau_tức': 1095, 'kích_thích': 1096, 'hoàn_thành_công_việc': 1097, 'nôn_nao': 1098, 'đại_tiện': 1099, 'hậu_môn': 1100, 'sức_khỏe': 1101, 'thực_quản': 1102, 'bệnh_lý': 1103, 'thần_kinh': 1104, 'tiết': 1105, 'lớn_tuổi': 1106, 'triệu_chứng_mất': 1107, 'đè_nén': 1108, 'đề_kháng': 1109, 'nếp': 1110, 'cột_sống': 1111, 'động_vật': 1112, 'Rối_loạn': 1113, 'ngạt_mũi': 1114, 'Sốt_nhẹ': 1115, 'Nốt': 1116, 'tôm': 1117, 'cua': 1118, 'kính': 1119, 'áp': 1120, 'tròng': 1121, 'Tiểu_đêm': 1122, 'sản_phẩm': 1123, 'xà_phòng': 1124, 'nhau': 1125, 'nách': 1126, 'cổ_cứng': 1127, 'nhiệt_đới': 1128, 'tinh_bột': 1129, 'béo': 1130, 'mơ_hồ': 1131, 'đất_sét': 1132, 'nén': 1133, 'li_ti': 1134, 'chuyến': 1135, 'bay': 1136, 'xương_sống': 1137, 'vặn': 1138, 'nghĩ': 1139, 'nhỏ_nhặt': 1140, 'lợi': 1141, 'bắp_chân': 1142, 'phấn_khích': 1143, 'kinh_niên': 1144, 'phương_hướng': 1145, 'chăm_sóc': 1146, 'lóa': 1147, 'méo_mó': 1148, 'bơi': 1149, 'nấu': 1150, 'chín': 1151, 'kỹ': 1152, 'viền': 1153, 'xào': 1154, 'tai_nghe': 1155, 'ra_tay_trái': 1156, 'nghẹt_thở': 1157, 'mạch': 1158, 'tái_nhợt': 1159, 'mất_sức': 1160, 'tập_luyện': 1161, 'Răng': 1162, 'linh_hoạt': 1163, 'đi_đứng': 1164, 'vững': 1165, 'Tự_nhiên': 1166, 'Đau_vùng': 1167, 'Mất_sức': 1168, 'món': 1169, 'Ngứa_tai': 1170, 'kích_hoạt': 1171, 'bướu': 1172, 'lông': 1173, 'mèo': 1174, 'mãnh_liệt': 1175, 'Ngủ_ngáy': 1176, 'amidan': 1177, 'góc': 1178, 'bọc': 1179, 'vỡ': 1180, 'cháy': 1181, 'rừng': 1182, 'cắm': 1183, 'trại': 1184, 'độc': 1185, 'kháng_sinh': 1186, 'dây': 1187, 'phát_âm': 1188, 'sức_lực': 1189, 'đánh_máy': 1190, 'Chân_sưng': 1191, 'run': 1192, 'Chân': 1193, 'gò_má': 1194, 'phỏng': 1195, 'nhất_là': 1196, 'rỉ': 1197, 'Đau_cổ': 1198, 'đảm_bảo': 1199, 'ô_tô': 1200, 'động_tác': 1201, 'lặp_đi': 1202, 'lặp_lại': 1203, 'xơ': 1204, 'máu_cam': 1205, 'tắc_nghẽn': 1206, 'giàu_mỡ': 1207, 'dầu_gội': 1208, 'thuốc_nhuộm': 1209, 'vướng': 1210, 'lao_động': 1211, 'thuốc_lá': 1212, 'rán': 1213, 'chứa_chất': 1214, 'bảo_quản': 1215, 'cảm_cúm': 1216, 'khạc': 1217, 'hút': 1218, 'cấp': 1219, 'tươi_sống': 1220, 'hô_hấp': 1221, 'nhiễm': 1222, 'hạt': 1223, 'tính': 1224, 'ăn_đủ': 1225, 'giàu': 1226, 'sắt': 1227, 'chế_biến': 1228, 'sẵn': 1229, 'mắc': 1230, 'truyền_nhiễm': 1231, 'tiêu_thụ': 1232, 'caffeine': 1233, 'muỗi': 1234, 'lactose': 1235, 'cúm': 1236, 'tiền_sử': 1237, 'nhuận_tràng': 1238, 'đãng_trí': 1239, 'thận': 1240, 'ngáy': 1241, 'ngửa': 1242, 'băng': 1243, 'mệt_nhọc': 1244, 'diễn': 1245, 'ô_nhiễm': 1246, 'người_bệnh': 1247, 'yên_tĩnh': 1248, 'xe_hơi': 1249, 'tàu_hỏa': 1250, 'rét': 1251, 'tiêu_cực': 1252, 'mạn': 1253, 'cọ_xát': 1254, 'tự_phát': 1255, 'Ngón': 1256, 'biến_dạng': 1257, 'thâm': 1258, 'dao_động': 1259, 'khóc': 1260, 'Môi': 1261, 'tư': 1262, 'cản_trở_việc': 1263, 'Rối_loạn_thị_lực': 1264, 'răng_khôn': 1265, 'mặt_dày': 1266, 'lỏng_lẻo': 1267, 'Mỗi': 1268, 'lung_lay': 1269, 'cỏ': 1270, 'tay_trái': 1271, 'phô_mai': 1272, 'Mẩn': 1273, 'nói_chuyện': 1274, 'nhức_nhối': 1275, 'ai': 1276, 'duỗi': 1277, 'chữ': 1278, 'T': 1279, 'cằm': 1280, 'xương_cụt': 1281, 'ráp': 1282, 'Đau_nhức': 1283, 'hồng': 1284, 'du_lịch': 1285, 'răng_hàm': 1286, 'mưng': 1287, 'mơ': 1288, 'ác_mộng': 1289, 'ngồi_xổm': 1290, 'phát': 1291, 'rắt': 1292, 'bạc_màu': 1293, 'gas': 1294, 'da_dầu': 1295, 'bước': 1296, 'giường': 1297, 'râm_ran': 1298, 'sợ': 1299, 'nguồn': 1300, 'bứt_rứt': 1301, 'buộc': 1302, 'sờ': 1303, 'phình': 1304, 'đợt': 1305, 'nhòe': 1306, 'lực': 1307, 'xám': 1308, 'điểm_mù': 1309, 'điều_khiển': 1310, 'mở_miệng': 1311, 'huyết': 1312, 'rắc': 1313, 'nghỉ': 1314, 'Bụng': 1315, 'Da_tay': 1316, 'da_sần_sùi': 1317, 'lỗ': 1318, 'chân_lông': 1319, 'bùng_phát': 1320, 'thông_tin': 1321, 'vừa': 1322, 'học': 1323, 'cá_nhân': 1324, 'hẹn': 1325, 'cột_sống_lưng': 1326, 'loạng_choạng': 1327, 'bọng': 1328, 'nước_bọt': 1329, 'cóc': 1330, 'nếu': 1331, 'mềm': 1332, 'cạo': 1333, 'xuống_tay': 1334, 'cọ': 1335, 'sát': 1336, 'cá': 1337, 'khóa': 1338, 'chóp': 1339, 'đổi': 1340, 'siết': 1341, 'sớm': 1342, 'miễn_dịch': 1343, 'thân': 1344, 'đường_huyết': 1345, 'thấp': 1346, 'niêm_mạc': 1347, 'xung_quanh_rốn': 1348, 'nấm': 1349, 'vi_khuẩn': 1350, 'nhiễm_khuẩn': 1351, 'tâm_lý': 1352, 'virus': 1353, '\"': 1354, 'tê_liệt': 1355, 'hố_chậu': 1356, 'trường_hợp': 1357, 'sỏi': 1358, 'sinh': 1359, 'thứ': 1360, 'bổ': 1361, 'điều_độ': 1362, 'hóa': 1363, 'chất_độc_hại': 1364, 'ăn_kiêng': 1365, 'tiểu_đường': 1366, 'tồi_tệ': 1367, 'báo': 1368, 'nhấp_nháy': 1369, 'vận_động_viên': 1370, 'ruột': 1371, 'ngộ_độc': 1372, 'không_gian': 1373, 'phụ': 1374, 'cho': 1375, 'ý_nghĩ': 1376, 'tự': 1377, 'miễn': 1378, 'kiến': 1379, 'bò': 1380, 'thoáng_khí': 1381, 'acid': 1382, 'cam': 1383, 'chanh': 1384, 'phù_hợp': 1385, 'phụ_nữ': 1386, 'thời_kỳ': 1387, 'thời_điểm': 1388, 'hen_suyễn': 1389, 'tuổi': 1390, 'sinh_sản': 1391, 'liên_quan': 1392, 'kháng': 1393, 'histamin': 1394, 'chống': 1395, 'steroid': 1396, 'NSAIDs': 1397, 'tuần_hoàn': 1398, 'vitamin': 1399, 'cơn_sốt': 1400, 'tiền_đình': 1401, 'phổi': 1402, 'liền': 1403, 'thái_quá': 1404, 'nói_khó': 1405, 'sản_phẩm_hóa': 1406, 'nữ_giới': 1407, 'cách': 1408, 'dịch_vị': 1409, 'sức_mạnh': 1410, 'Triệu_chứng': 1411, 'vảy_nến': 1412, 'chấm': 1413, ':': 1414, '4': 1415, '72': 1416, 'Kèm': 1417, 'Nhiệt_độ': 1418, 'dẫn': 1419, 'Thường': 1420, 'kẹt': 1421, 'trà': 1422, 'năm': 1423, 'tâm': 1424, 'Nghe': 1425, 'mơ_mộng': 1426, 'đối_tượng': 1427, 'Khuôn_mặt': 1428, 'gây_tê': 1429, 'Không': 1430, 'Thời_gian': 1431, 'sinh_hoạt': 1432, 'chất_lượng': 1433, 'Đây': 1434, 'khẩn_cấp': 1435, 'theo_dõi': 1436, 'tránh': 1437, 'bác_sĩ': 1438, 'chẩn_đoán': 1439, 'im': 1440, 'thử': 1441, 'kỹ_lưỡng': 1442, 'Đặc_biệt': 1443, 'tổng_thể': 1444, 'quá_khứ': 1445, 'tự_tin': 1446, 'hiệu_quả': 1447, 'tim_mạch': 1448, 'biện_pháp': 1449, 'tự_ti': 1450, 'yên_tâm': 1451, 'kem': 1452, 'phương_tiện': 1453, 'giao_thông': 1454, 'hường': 1455, 'xuyên': 1456, 'sa_mạc': 1457, 'kịp_thời': 1458, 'chung': 1459, 'gan': 1460, 'giao_tiếp': 1461, 'Người_bệnh': 1462, 'bóng_tối': 1463, 'chặt_chẽ': 1464, 'biến_chứng': 1465, 'Miệng': 1466, 'Cần': 1467, 'xét_nghiệm': 1468, 'xác_định': 1469, 'cụ_thể': 1470, 'y_tế': 1471, 'tình_trạng_tụy': 1472, 'yếu_tố': 1473, 'thăm': 1474, 'loại_trừ': 1475, 'lây_lan': 1476, 'chức_năng': 1477, 'đánh_giá': 1478, 'lập_tức': 1479, 'chính_xác': 1480, 'hỗ_trợ': 1481, 'gia_đình': 1482, 'chuyên_gia': 1483, 'tốt': 1484, 'ung_thư': 1485, 'điều_chỉnh': 1486, 'dinh_dưỡng': 1487, 'trầm_trọng': 1488, 'thêm': 1489, 'xơ_gan': 1490, 'suy': 1491, 'nhận_thức': 1492, 'ngăn_ngừa': 1493, 'tiếp_theo': 1494, 'Khuyến_nghị': 1495, 'Hạn_chế': 1496, 'Theo_dõi': 1497, 'định_kỳ': 1498, 'liệu_pháp': 1499, 'Uống': 1500, 'thông_báo': 1501, 'Thăm': 1502, 'Xét_nghiệm': 1503, 'cần_thiết': 1504, 'tìm': 1505, 'Nên': 1506, 'Vật_lý': 1507, 'trị_liệu': 1508, 'giúp': 1509, 'Gây': 1510, 'Tránh': 1511, 'Ảnh_hưởng': 1512, 'Giữ': 1513, 'sạch_sẽ': 1514, 'Đánh_giá': 1515, 'nên': 1516, 'tự_ý': 1517, 'chuẩn_bị': 1518, 'trí_não': 1519, 'hormone': 1520, 'Liên_quan': 1521, 'viêm_tụy': 1522, 'dạng': 1523, 'herpes': 1524, 'simplex': 1525, 'hội_chứng': 1526, 'dung_nạp': 1527, 'ký_sinh_trùng': 1528, 'phản_ứng': 1529, 'xuất_huyết': 1530, 'tuổi_tác': 1531, 'tâm_thần': 1532, 'báo_cáo': 1533, 'khai': 1534, 'mộng_du': 1535, 'khí': 1536, 'huyết_áp_thấp': 1537, 'dốc': 1538, 'nghêu': 1539}\n"
     ]
    }
   ],
   "source": [
    "import joblib\n",
    "\n",
    "try:\n",
    "    vocab = joblib.load(\"C:\\\\Users\\\\tontide1\\\\my-data\\\\AI\\\\AI_PROJECT_NEW (1)\\\\AI_PROJECT_NEW\\\\data\\\\tokenizer_data\\\\vocab.pkl\")\n",
    "    print(\"vocab loaded successfully:\", vocab)\n",
    "except EOFError:\n",
    "    print(\"EOFError: vocab.pkl file may be incomplete or corrupted.\")\n",
    "except FileNotFoundError:\n",
    "    print(\"FileNotFoundError: vocab.pkl file not found in the specified directory.\")\n"
   ]
  }
 ],
 "metadata": {
  "kernelspec": {
   "display_name": "Python 3",
   "language": "python",
   "name": "python3"
  },
  "language_info": {
   "codemirror_mode": {
    "name": "ipython",
    "version": 3
   },
   "file_extension": ".py",
   "mimetype": "text/x-python",
   "name": "python",
   "nbconvert_exporter": "python",
   "pygments_lexer": "ipython3",
   "version": "3.9.20"
  }
 },
 "nbformat": 4,
 "nbformat_minor": 2
}
